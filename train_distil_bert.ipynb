{
 "cells": [
  {
   "cell_type": "code",
   "execution_count": 1,
   "metadata": {},
   "outputs": [],
   "source": [
    "#!pip install transformers"
   ]
  },
  {
   "cell_type": "code",
   "execution_count": 2,
   "metadata": {},
   "outputs": [],
   "source": [
    "import os\n",
    "import copy\n",
    "import math\n",
    "import pandas as pd\n",
    "import numpy as np\n",
    "from tqdm import tqdm\n",
    "import matplotlib.pyplot as plt\n",
    "\n",
    "import torch\n",
    "import torch.nn as nn\n",
    "import torch.nn.functional as F\n",
    "\n",
    "from sklearn.preprocessing import LabelEncoder\n",
    "from sklearn.model_selection import train_test_split\n",
    "\n",
    "import transformers\n",
    "from transformers import (BertTokenizer, BertModel,\n",
    "                          DistilBertTokenizer, DistilBertModel)"
   ]
  },
  {
   "cell_type": "code",
   "execution_count": 3,
   "metadata": {},
   "outputs": [],
   "source": [
    "to_eng = { \"wanita\": \"woman\", \"anak\": \"child\", \"bayi\": \"baby\", \"tas\": \"bag\", \"masker\": \"face mask\", \"pria\": \"men\", \"murah\": \"cheap\", \"tangan\": \"hand\", \"alat\": \"tool\", \"motif\": \"motive\", \"warna\": \"color\", \"bahan\": \"material\", \"celana\": \"pants\", \"baju\": \"clothes\", \"kaos\": \"t-shirt\", \"sepatu\": \"shoes\", \"rambut\": \"hair\", \"mainan\": \"toy\", \"sarung\": \"holster\", \"polos\": \"plain\", \"rak\": \"rack\", \"botol\": \"bottle\", \"sabun\": \"soap\", \"kain\": \"fabric\", \"panjang\": \"long\", \"kabel\": \"cable\", \"buku\": \"book\", \"plastik\": \"plastic\", \"mobil\": \"car\", \"hitam\": \"black\", \"karakter\": \"character\", \"putih\": \"white\", \"dompet\": \"purse\", \"kaki\": \"feet\", \"pembersih\": \"cleaners\", \"lipat\": \"folding\", \"silikon\": \"silicone\", \"minyak\": \"oil\", \"isi\": \"contents\", \"paket\": \"package\", \"susu\": \"milk\", \"gamis\": \"robe\", \"mandi\": \"bath\", \"madu\": \"honey\", \"kulit\": \"skin\", \"serbaguna\": \"multipurpose\", \"bisa\": \"can\", \"kacamata\": \"spectacles\", \"pendek\": \"short\", \"tali\": \"rope\", \"selempang\": \"sash\", \"topi\": \"hat\", \"obat\": \"drug\", \"gantungan\": \"hanger\", \"tahun\": \"year\", \"jilbab\": \"hijab\", \"dapur\": \"kitchen\", \"dinding\": \"wall\", \"kuas\": \"brush\", \"perempuan\": \"woman\", \"katun\": \"cotton\", \"sepeda\": \"bike\", \"lucu\": \"funny\", \"lengan\": \"arm\", \"kaca\": \"glass\", \"garansi\": \"warranty\", \"bunga\": \"flower\", \"handuk\": \"towel\", \"dewasa\": \"adult\", \"elektrik\": \"electric\", \"timbangan\": \"balance\", \"besar\": \"big\", \"bahan\": \"ingredient\", \"ransel\": \"backpack\", \"kertas\": \"paper\"}\n",
    "to_ind = {v: k for k, v in to_eng.items()}\n",
    "to_ind_reg = {r'(\\b){}(\\b)'.format(k):r'\\1{}\\2'.format(v) for k,v in to_ind.items()}"
   ]
  },
  {
   "cell_type": "code",
   "execution_count": 4,
   "metadata": {},
   "outputs": [
    {
     "data": {
      "text/html": [
       "<div>\n",
       "<style scoped>\n",
       "    .dataframe tbody tr th:only-of-type {\n",
       "        vertical-align: middle;\n",
       "    }\n",
       "\n",
       "    .dataframe tbody tr th {\n",
       "        vertical-align: top;\n",
       "    }\n",
       "\n",
       "    .dataframe thead th {\n",
       "        text-align: right;\n",
       "    }\n",
       "</style>\n",
       "<table border=\"1\" class=\"dataframe\">\n",
       "  <thead>\n",
       "    <tr style=\"text-align: right;\">\n",
       "      <th></th>\n",
       "      <th>posting_id</th>\n",
       "      <th>image</th>\n",
       "      <th>image_phash</th>\n",
       "      <th>title</th>\n",
       "      <th>label_group</th>\n",
       "      <th>fold</th>\n",
       "    </tr>\n",
       "  </thead>\n",
       "  <tbody>\n",
       "    <tr>\n",
       "      <th>0</th>\n",
       "      <td>train_129225211</td>\n",
       "      <td>0000a68812bc7e98c42888dfb1c07da0.jpg</td>\n",
       "      <td>94974f937d4c2433</td>\n",
       "      <td>kertas tas victoria secret</td>\n",
       "      <td>249114794</td>\n",
       "      <td>0</td>\n",
       "    </tr>\n",
       "    <tr>\n",
       "      <th>1</th>\n",
       "      <td>train_3386243561</td>\n",
       "      <td>00039780dfc94d01db8676fe789ecd05.jpg</td>\n",
       "      <td>af3f9460c2838f0f</td>\n",
       "      <td>double tape 3m vhb 12 mm x 4,5 m original / do...</td>\n",
       "      <td>2937985045</td>\n",
       "      <td>2</td>\n",
       "    </tr>\n",
       "    <tr>\n",
       "      <th>2</th>\n",
       "      <td>train_2288590299</td>\n",
       "      <td>000a190fdd715a2a36faed16e2c65df7.jpg</td>\n",
       "      <td>b94cb00ed3e50f78</td>\n",
       "      <td>maling tts canned pork luncheon meat 397 gr</td>\n",
       "      <td>2395904891</td>\n",
       "      <td>0</td>\n",
       "    </tr>\n",
       "    <tr>\n",
       "      <th>3</th>\n",
       "      <td>train_2406599165</td>\n",
       "      <td>00117e4fc239b1b641ff08340b429633.jpg</td>\n",
       "      <td>8514fc58eafea283</td>\n",
       "      <td>daster batik lengan pendek - motif acak / camp...</td>\n",
       "      <td>4093212188</td>\n",
       "      <td>1</td>\n",
       "    </tr>\n",
       "    <tr>\n",
       "      <th>4</th>\n",
       "      <td>train_3369186413</td>\n",
       "      <td>00136d1cf4edede0203f32f05f660588.jpg</td>\n",
       "      <td>a6f319f924ad708c</td>\n",
       "      <td>nescafe  xc3 x89clair latte 220ml</td>\n",
       "      <td>3648931069</td>\n",
       "      <td>3</td>\n",
       "    </tr>\n",
       "  </tbody>\n",
       "</table>\n",
       "</div>"
      ],
      "text/plain": [
       "         posting_id                                 image       image_phash  \\\n",
       "0   train_129225211  0000a68812bc7e98c42888dfb1c07da0.jpg  94974f937d4c2433   \n",
       "1  train_3386243561  00039780dfc94d01db8676fe789ecd05.jpg  af3f9460c2838f0f   \n",
       "2  train_2288590299  000a190fdd715a2a36faed16e2c65df7.jpg  b94cb00ed3e50f78   \n",
       "3  train_2406599165  00117e4fc239b1b641ff08340b429633.jpg  8514fc58eafea283   \n",
       "4  train_3369186413  00136d1cf4edede0203f32f05f660588.jpg  a6f319f924ad708c   \n",
       "\n",
       "                                               title  label_group  fold  \n",
       "0                         kertas tas victoria secret    249114794     0  \n",
       "1  double tape 3m vhb 12 mm x 4,5 m original / do...   2937985045     2  \n",
       "2        maling tts canned pork luncheon meat 397 gr   2395904891     0  \n",
       "3  daster batik lengan pendek - motif acak / camp...   4093212188     1  \n",
       "4                  nescafe  xc3 x89clair latte 220ml   3648931069     3  "
      ]
     },
     "execution_count": 4,
     "metadata": {},
     "output_type": "execute_result"
    }
   ],
   "source": [
    "train = pd.read_csv(\"folds.csv\")\n",
    "train['title'] = train.title.apply(lambda x: x.lower().replace('\\\\', ' '))\n",
    "train['title'] = train['title'].replace(to_ind_reg, regex=True)\n",
    "train.head()"
   ]
  },
  {
   "cell_type": "code",
   "execution_count": 5,
   "metadata": {},
   "outputs": [],
   "source": [
    "os.environ['CUDA_VISIBLE_DEVICES'] = '6, 7'"
   ]
  },
  {
   "cell_type": "code",
   "execution_count": 6,
   "metadata": {},
   "outputs": [],
   "source": [
    "class CFG:\n",
    "    DistilBERT = True # if set to False, BERT model will be used\n",
    "    bert_hidden_size = 768\n",
    "    \n",
    "    batch_size = 512\n",
    "    epochs = 100\n",
    "    num_workers = 4\n",
    "    learning_rate = 3e-5 #3e-5\n",
    "    scheduler = \"ReduceLROnPlateau\"\n",
    "    step = 'epoch'\n",
    "    patience = 2\n",
    "    factor = 0.8\n",
    "    dropout = 0.5\n",
    "    model_path = \"./\"\n",
    "    max_length = 60\n",
    "    model_save_name = \"distil_bert.pt\"\n",
    "    device = torch.device(\"cuda\" if torch.cuda.is_available() else 'cpu')"
   ]
  },
  {
   "cell_type": "code",
   "execution_count": 7,
   "metadata": {},
   "outputs": [],
   "source": [
    "if CFG.DistilBERT:\n",
    "    model_name='cahya/distilbert-base-indonesian'\n",
    "    tokenizer = DistilBertTokenizer.from_pretrained(model_name)\n",
    "    bert_model = DistilBertModel.from_pretrained(model_name)\n",
    "else:\n",
    "    model_name='cahya/bert-base-indonesian-522M'\n",
    "    tokenizer = BertTokenizer.from_pretrained(model_name)\n",
    "    bert_model = BertModel.from_pretrained(model_name)"
   ]
  },
  {
   "cell_type": "code",
   "execution_count": 8,
   "metadata": {},
   "outputs": [
    {
     "name": "stdout",
     "output_type": "stream",
     "text": [
      "Text of the title: kurma ajwa medina super/medina dates super (5kg)\n",
      "Input tokens: tensor([[    3, 27294,  3044,  1627, 14795,  1990,  3830,    18, 14795,  1990,\n",
      "         25288,  1018,  3830,    11,    24,  1028,  1014,    12,     1]])\n",
      "Decoded tokens: [CLS] kurma ajwa medina super / medina dates super ( 5kg ) [SEP]\n",
      "last layer's output shape: torch.Size([1, 19, 768])\n"
     ]
    }
   ],
   "source": [
    "text = train['title'].values[np.random.randint(0, len(train) - 1, 1)[0]]\n",
    "print(f\"Text of the title: {text}\")\n",
    "encoded_input = tokenizer(text, return_tensors='pt')\n",
    "print(f\"Input tokens: {encoded_input['input_ids']}\")\n",
    "decoded_input = tokenizer.decode(encoded_input['input_ids'][0])\n",
    "print(f\"Decoded tokens: {decoded_input}\")\n",
    "output = bert_model(**encoded_input)\n",
    "print(f\"last layer's output shape: {output.last_hidden_state.shape}\")"
   ]
  },
  {
   "cell_type": "code",
   "execution_count": 9,
   "metadata": {},
   "outputs": [],
   "source": [
    "lbl_encoder = LabelEncoder()\n",
    "train['label_code'] = lbl_encoder.fit_transform(train['label_group'])\n",
    "NUM_CLASSES = train['label_code'].nunique()"
   ]
  },
  {
   "cell_type": "code",
   "execution_count": 10,
   "metadata": {},
   "outputs": [],
   "source": [
    "class TextDataset(torch.utils.data.Dataset):\n",
    "    def __init__(self, dataframe, tokenizer, mode=\"train\", max_length=None):\n",
    "        self.dataframe = dataframe\n",
    "        if mode != \"test\":\n",
    "            self.targets = dataframe['label_code'].values\n",
    "        texts = list(dataframe['title'].apply(lambda o: str(o)).values)\n",
    "        self.encodings = tokenizer(texts, \n",
    "                                   padding=True, \n",
    "                                   truncation=True, \n",
    "                                   max_length=max_length)\n",
    "        self.mode = mode\n",
    "        \n",
    "        \n",
    "        \n",
    "    def __len__(self):\n",
    "        return len(self.dataframe)\n",
    "        \n",
    "    def __getitem__(self, idx):\n",
    "        # putting each tensor in front of the corresponding key from the tokenizer\n",
    "        # HuggingFace tokenizers give you whatever you need to feed to the corresponding model\n",
    "        item = {key: torch.tensor(values[idx]) for key, values in self.encodings.items()}\n",
    "        # when testing, there are no targets so we won't do the following\n",
    "        if self.mode != \"test\":\n",
    "            item['labels'] = torch.tensor(self.targets[idx]).long()\n",
    "        return item"
   ]
  },
  {
   "cell_type": "code",
   "execution_count": 11,
   "metadata": {},
   "outputs": [],
   "source": [
    "class ArcMarginProduct(nn.Module):\n",
    "    r\"\"\"Implement of large margin arc distance: :\n",
    "        Args:\n",
    "            in_features: size of each input sample\n",
    "            out_features: size of each output sample\n",
    "            s: norm of input feature\n",
    "            m: margin\n",
    "            cos(theta + m)\n",
    "        \"\"\"\n",
    "    def __init__(self, in_features, out_features, s=30.0, m=0.50, easy_margin=False):\n",
    "        super(ArcMarginProduct, self).__init__()\n",
    "        self.in_features = in_features\n",
    "        self.out_features = out_features\n",
    "        self.s = s\n",
    "        self.m = m\n",
    "        self.weight = nn.Parameter(torch.FloatTensor(out_features, in_features))\n",
    "        nn.init.xavier_uniform_(self.weight)\n",
    "\n",
    "        self.easy_margin = easy_margin\n",
    "        self.cos_m = math.cos(m)\n",
    "        self.sin_m = math.sin(m)\n",
    "        self.th = math.cos(math.pi - m)\n",
    "        self.mm = math.sin(math.pi - m) * m\n",
    "\n",
    "    def forward(self, input, label):\n",
    "        # --------------------------- cos(theta) & phi(theta) ---------------------------\n",
    "        cosine = F.linear(F.normalize(input), F.normalize(self.weight))\n",
    "        sine = torch.sqrt((1.0 - torch.pow(cosine, 2)).clamp(0, 1))\n",
    "        phi = cosine * self.cos_m - sine * self.sin_m\n",
    "        if self.easy_margin:\n",
    "            phi = torch.where(cosine > 0, phi, cosine)\n",
    "        else:\n",
    "            phi = torch.where(cosine > self.th, phi, cosine - self.mm)\n",
    "        # --------------------------- convert label to one-hot ---------------------------\n",
    "        # one_hot = torch.zeros(cosine.size(), requires_grad=True, device='cuda')\n",
    "        one_hot = torch.zeros(cosine.size(), device=CFG.device)\n",
    "        one_hot.scatter_(1, label.view(-1, 1).long(), 1)\n",
    "        # -------------torch.where(out_i = {x_i if condition_i else y_i) -------------\n",
    "        output = (one_hot * phi) + ((1.0 - one_hot) * cosine)  # you can use torch.where if your torch.__version__ is 0.4\n",
    "        output *= self.s\n",
    "        # print(output)\n",
    "\n",
    "        return output"
   ]
  },
  {
   "cell_type": "code",
   "execution_count": 12,
   "metadata": {},
   "outputs": [],
   "source": [
    "class BertModel(nn.Module):\n",
    "    def __init__(self, \n",
    "                 bert_model, \n",
    "                 num_classes=NUM_CLASSES, \n",
    "                 last_hidden_size=CFG.bert_hidden_size):\n",
    "        \n",
    "        super().__init__()\n",
    "        self.bert_model = bert_model\n",
    "        self.arc_margin = ArcMarginProduct(last_hidden_size, \n",
    "                                           num_classes, \n",
    "                                           s=30.0, \n",
    "                                           m=0.50, \n",
    "                                           easy_margin=False)\n",
    "    \n",
    "    def get_bert_features(self, batch):\n",
    "        output = self.bert_model(input_ids=batch['input_ids'], attention_mask=batch['attention_mask'])\n",
    "        last_hidden_state = output.last_hidden_state # shape: (batch_size, seq_length, bert_hidden_dim)\n",
    "        CLS_token_state = last_hidden_state[:, 0, :] # obtaining CLS token state which is the first token.\n",
    "        return CLS_token_state\n",
    "    \n",
    "    def forward(self, batch):\n",
    "        CLS_hidden_state = self.get_bert_features(batch)\n",
    "        output = self.arc_margin(CLS_hidden_state, batch['labels'])\n",
    "        return output"
   ]
  },
  {
   "cell_type": "code",
   "execution_count": 13,
   "metadata": {},
   "outputs": [],
   "source": [
    "class AvgMeter:\n",
    "    def __init__(self, name=\"Metric\"):\n",
    "        self.name = name\n",
    "        self.reset()\n",
    "    \n",
    "    def reset(self):\n",
    "        self.avg, self.sum, self.count = [0]*3\n",
    "    \n",
    "    def update(self, val, count=1):\n",
    "        self.count += count\n",
    "        self.sum += val * count\n",
    "        self.avg = self.sum / self.count\n",
    "    \n",
    "    def __repr__(self):\n",
    "        text = f\"{self.name}: {self.avg:.4f}\"\n",
    "        return text\n",
    "\n",
    "def one_epoch(model, \n",
    "              criterion, \n",
    "              loader,\n",
    "              optimizer=None, \n",
    "              lr_scheduler=None, \n",
    "              mode=\"train\", \n",
    "              step=\"batch\"):\n",
    "    \n",
    "    loss_meter = AvgMeter()\n",
    "    acc_meter = AvgMeter()\n",
    "    \n",
    "    tqdm_object = tqdm(loader, total=len(loader))\n",
    "    for batch in tqdm_object:\n",
    "        batch = {k: v.to(CFG.device) for k, v in batch.items()}\n",
    "        preds = model(batch)\n",
    "        loss = criterion(preds, batch['labels'])\n",
    "        if mode == \"train\":\n",
    "            optimizer.zero_grad()\n",
    "            loss.mean().backward()\n",
    "            optimizer.step()\n",
    "            if step == \"batch\":\n",
    "                lr_scheduler.step()\n",
    "                \n",
    "        count = batch['input_ids'].size(0)\n",
    "        loss_meter.update(loss.item(), count)\n",
    "        \n",
    "        accuracy = get_accuracy(preds.detach(), batch['labels'])\n",
    "        acc_meter.update(accuracy.item(), count)\n",
    "        if mode == \"train\":\n",
    "            tqdm_object.set_postfix(train_loss=loss_meter.avg, accuracy=acc_meter.avg, lr=get_lr(optimizer))\n",
    "        else:\n",
    "            tqdm_object.set_postfix(valid_loss=loss_meter.avg, accuracy=acc_meter.avg)\n",
    "    \n",
    "    return loss_meter, acc_meter\n",
    "\n",
    "def get_lr(optimizer):\n",
    "    for param_group in optimizer.param_groups:\n",
    "        return param_group[\"lr\"]\n",
    "\n",
    "def get_accuracy(preds, targets):\n",
    "    \"\"\"\n",
    "    preds shape: (batch_size, num_labels)\n",
    "    targets shape: (batch_size)\n",
    "    \"\"\"\n",
    "    preds = preds.argmax(dim=1)\n",
    "    acc = (preds == targets).float().mean()\n",
    "    return acc"
   ]
  },
  {
   "cell_type": "code",
   "execution_count": 14,
   "metadata": {},
   "outputs": [],
   "source": [
    "def train_eval(epochs, model, train_loader, valid_loader, \n",
    "               criterion, optimizer, lr_scheduler=None):\n",
    "    \n",
    "    best_loss = float('inf')\n",
    "    best_model_weights = copy.deepcopy(model.state_dict())\n",
    "    \n",
    "    for epoch in range(epochs):\n",
    "        print(\"*\" * 30)\n",
    "        print(f\"Epoch {epoch + 1}\")\n",
    "        current_lr = get_lr(optimizer)\n",
    "        \n",
    "        model.train()\n",
    "        train_loss, train_acc = one_epoch(model, \n",
    "                                          criterion, \n",
    "                                          train_loader, \n",
    "                                          optimizer=optimizer,\n",
    "                                          lr_scheduler=lr_scheduler,\n",
    "                                          mode=\"train\",\n",
    "                                          step=CFG.step)                     \n",
    "        model.eval()\n",
    "        with torch.no_grad():\n",
    "            valid_loss, valid_acc = one_epoch(model, \n",
    "                                              criterion, \n",
    "                                              valid_loader, \n",
    "                                              optimizer=None,\n",
    "                                              lr_scheduler=None,\n",
    "                                              mode=\"valid\")\n",
    "        \n",
    "        if valid_loss.avg < best_loss:\n",
    "            best_loss = valid_loss.avg\n",
    "            best_model_weights = copy.deepcopy(model.state_dict())\n",
    "            torch.save(model.module.state_dict(), f'{CFG.model_path}/{CFG.model_save_name}')\n",
    "            print(\"Saved best model!\")\n",
    "        \n",
    "        if isinstance(lr_scheduler, torch.optim.lr_scheduler.ReduceLROnPlateau):\n",
    "            lr_scheduler.step(valid_loss.avg)\n",
    "            if current_lr != get_lr(optimizer):\n",
    "                print(\"Loading best model weights!\")\n",
    "                model.load_state_dict(torch.load(f'{CFG.model_path}/{CFG.model_save_name}')\n",
    "                model = model.to(CFG.device)\n",
    "        \n",
    "        print(\"*\" * 30)"
   ]
  },
  {
   "cell_type": "code",
   "execution_count": 15,
   "metadata": {},
   "outputs": [],
   "source": [
    "# train_df = train[train.fold != 0]\n",
    "train_df = train\n",
    "valid_df = train[train.fold == 0]\n",
    "\n",
    "train_dataset = TextDataset(train_df, tokenizer, max_length=CFG.max_length)\n",
    "train_loader = torch.utils.data.DataLoader(train_dataset, \n",
    "                                           batch_size=CFG.batch_size, \n",
    "                                           num_workers=CFG.num_workers, \n",
    "                                           shuffle=True)\n",
    "\n",
    "valid_dataset = TextDataset(valid_df, tokenizer, max_length=CFG.max_length)\n",
    "valid_loader = torch.utils.data.DataLoader(valid_dataset, \n",
    "                                           batch_size=CFG.batch_size, \n",
    "                                           num_workers=CFG.num_workers, \n",
    "                                           shuffle=False)"
   ]
  },
  {
   "cell_type": "code",
   "execution_count": 16,
   "metadata": {},
   "outputs": [
    {
     "name": "stderr",
     "output_type": "stream",
     "text": [
      "\r",
      "  0%|          | 0/67 [00:00<?, ?it/s]"
     ]
    },
    {
     "name": "stdout",
     "output_type": "stream",
     "text": [
      "******************************\n",
      "Epoch 1\n"
     ]
    },
    {
     "name": "stderr",
     "output_type": "stream",
     "text": [
      "100%|██████████| 67/67 [00:36<00:00,  1.86it/s, accuracy=0, lr=3e-5, train_loss=23.9]\n",
      "100%|██████████| 14/14 [00:02<00:00,  5.07it/s, accuracy=0, valid_loss=23.1]\n",
      "  0%|          | 0/67 [00:00<?, ?it/s]"
     ]
    },
    {
     "name": "stdout",
     "output_type": "stream",
     "text": [
      "Saved best model!\n",
      "******************************\n",
      "******************************\n",
      "Epoch 2\n"
     ]
    },
    {
     "name": "stderr",
     "output_type": "stream",
     "text": [
      "100%|██████████| 67/67 [00:32<00:00,  2.05it/s, accuracy=0, lr=3e-5, train_loss=22.7]\n",
      "100%|██████████| 14/14 [00:02<00:00,  5.04it/s, accuracy=0.000438, valid_loss=21.5]\n",
      "  0%|          | 0/67 [00:00<?, ?it/s]"
     ]
    },
    {
     "name": "stdout",
     "output_type": "stream",
     "text": [
      "Saved best model!\n",
      "******************************\n",
      "******************************\n",
      "Epoch 3\n"
     ]
    },
    {
     "name": "stderr",
     "output_type": "stream",
     "text": [
      "100%|██████████| 67/67 [00:32<00:00,  2.06it/s, accuracy=0.00269, lr=3e-5, train_loss=21.3] \n",
      "100%|██████████| 14/14 [00:02<00:00,  5.02it/s, accuracy=0.00701, valid_loss=20]  \n",
      "  0%|          | 0/67 [00:00<?, ?it/s]"
     ]
    },
    {
     "name": "stdout",
     "output_type": "stream",
     "text": [
      "Saved best model!\n",
      "******************************\n",
      "******************************\n",
      "Epoch 4\n"
     ]
    },
    {
     "name": "stderr",
     "output_type": "stream",
     "text": [
      "100%|██████████| 67/67 [00:32<00:00,  2.05it/s, accuracy=0.00917, lr=3e-5, train_loss=20]  \n",
      "100%|██████████| 14/14 [00:02<00:00,  5.01it/s, accuracy=0.0185, valid_loss=18.7]\n",
      "  0%|          | 0/67 [00:00<?, ?it/s]"
     ]
    },
    {
     "name": "stdout",
     "output_type": "stream",
     "text": [
      "Saved best model!\n",
      "******************************\n",
      "******************************\n",
      "Epoch 5\n"
     ]
    },
    {
     "name": "stderr",
     "output_type": "stream",
     "text": [
      "100%|██████████| 67/67 [00:32<00:00,  2.04it/s, accuracy=0.0165, lr=3e-5, train_loss=19]  \n",
      "100%|██████████| 14/14 [00:02<00:00,  5.04it/s, accuracy=0.0296, valid_loss=17.7]\n",
      "  0%|          | 0/67 [00:00<?, ?it/s]"
     ]
    },
    {
     "name": "stdout",
     "output_type": "stream",
     "text": [
      "Saved best model!\n",
      "******************************\n",
      "******************************\n",
      "Epoch 6\n"
     ]
    },
    {
     "name": "stderr",
     "output_type": "stream",
     "text": [
      "100%|██████████| 67/67 [00:32<00:00,  2.04it/s, accuracy=0.0253, lr=3e-5, train_loss=18.1]\n",
      "100%|██████████| 14/14 [00:02<00:00,  5.04it/s, accuracy=0.0393, valid_loss=16.7]\n",
      "  0%|          | 0/67 [00:00<?, ?it/s]"
     ]
    },
    {
     "name": "stdout",
     "output_type": "stream",
     "text": [
      "Saved best model!\n",
      "******************************\n",
      "******************************\n",
      "Epoch 7\n"
     ]
    },
    {
     "name": "stderr",
     "output_type": "stream",
     "text": [
      "100%|██████████| 67/67 [00:32<00:00,  2.04it/s, accuracy=0.0332, lr=3e-5, train_loss=17.2]\n",
      "100%|██████████| 14/14 [00:02<00:00,  5.03it/s, accuracy=0.0485, valid_loss=15.8]\n",
      "  0%|          | 0/67 [00:00<?, ?it/s]"
     ]
    },
    {
     "name": "stdout",
     "output_type": "stream",
     "text": [
      "Saved best model!\n",
      "******************************\n",
      "******************************\n",
      "Epoch 8\n"
     ]
    },
    {
     "name": "stderr",
     "output_type": "stream",
     "text": [
      "100%|██████████| 67/67 [00:32<00:00,  2.04it/s, accuracy=0.0412, lr=3e-5, train_loss=16.4]\n",
      "100%|██████████| 14/14 [00:02<00:00,  5.02it/s, accuracy=0.0607, valid_loss=14.9]\n",
      "  0%|          | 0/67 [00:00<?, ?it/s]"
     ]
    },
    {
     "name": "stdout",
     "output_type": "stream",
     "text": [
      "Saved best model!\n",
      "******************************\n",
      "******************************\n",
      "Epoch 9\n"
     ]
    },
    {
     "name": "stderr",
     "output_type": "stream",
     "text": [
      "100%|██████████| 67/67 [00:32<00:00,  2.04it/s, accuracy=0.049, lr=3e-5, train_loss=15.7] \n",
      "100%|██████████| 14/14 [00:02<00:00,  5.00it/s, accuracy=0.0721, valid_loss=14.1]\n",
      "  0%|          | 0/67 [00:00<?, ?it/s]"
     ]
    },
    {
     "name": "stdout",
     "output_type": "stream",
     "text": [
      "Saved best model!\n",
      "******************************\n",
      "******************************\n",
      "Epoch 10\n"
     ]
    },
    {
     "name": "stderr",
     "output_type": "stream",
     "text": [
      "100%|██████████| 67/67 [00:32<00:00,  2.04it/s, accuracy=0.0573, lr=3e-5, train_loss=15]  \n",
      "100%|██████████| 14/14 [00:02<00:00,  4.99it/s, accuracy=0.0857, valid_loss=13.4]\n",
      "  0%|          | 0/67 [00:00<?, ?it/s]"
     ]
    },
    {
     "name": "stdout",
     "output_type": "stream",
     "text": [
      "Saved best model!\n",
      "******************************\n",
      "******************************\n",
      "Epoch 11\n"
     ]
    },
    {
     "name": "stderr",
     "output_type": "stream",
     "text": [
      "100%|██████████| 67/67 [00:32<00:00,  2.04it/s, accuracy=0.0652, lr=3e-5, train_loss=14.4]\n",
      "100%|██████████| 14/14 [00:02<00:00,  4.79it/s, accuracy=0.0975, valid_loss=12.7]\n",
      "  0%|          | 0/67 [00:00<?, ?it/s]"
     ]
    },
    {
     "name": "stdout",
     "output_type": "stream",
     "text": [
      "Saved best model!\n",
      "******************************\n",
      "******************************\n",
      "Epoch 12\n"
     ]
    },
    {
     "name": "stderr",
     "output_type": "stream",
     "text": [
      "100%|██████████| 67/67 [00:32<00:00,  2.03it/s, accuracy=0.0746, lr=3e-5, train_loss=13.8]\n",
      "100%|██████████| 14/14 [00:02<00:00,  5.02it/s, accuracy=0.113, valid_loss=12.1]\n",
      "  0%|          | 0/67 [00:00<?, ?it/s]"
     ]
    },
    {
     "name": "stdout",
     "output_type": "stream",
     "text": [
      "Saved best model!\n",
      "******************************\n",
      "******************************\n",
      "Epoch 13\n"
     ]
    },
    {
     "name": "stderr",
     "output_type": "stream",
     "text": [
      "100%|██████████| 67/67 [00:32<00:00,  2.04it/s, accuracy=0.0846, lr=3e-5, train_loss=13.2]\n",
      "100%|██████████| 14/14 [00:02<00:00,  4.98it/s, accuracy=0.127, valid_loss=11.4]\n",
      "  0%|          | 0/67 [00:00<?, ?it/s]"
     ]
    },
    {
     "name": "stdout",
     "output_type": "stream",
     "text": [
      "Saved best model!\n",
      "******************************\n",
      "******************************\n",
      "Epoch 14\n"
     ]
    },
    {
     "name": "stderr",
     "output_type": "stream",
     "text": [
      "100%|██████████| 67/67 [00:32<00:00,  2.04it/s, accuracy=0.0953, lr=3e-5, train_loss=12.6]\n",
      "100%|██████████| 14/14 [00:02<00:00,  4.97it/s, accuracy=0.142, valid_loss=10.8]\n",
      "  0%|          | 0/67 [00:00<?, ?it/s]"
     ]
    },
    {
     "name": "stdout",
     "output_type": "stream",
     "text": [
      "Saved best model!\n",
      "******************************\n",
      "******************************\n",
      "Epoch 15\n"
     ]
    },
    {
     "name": "stderr",
     "output_type": "stream",
     "text": [
      "100%|██████████| 67/67 [00:32<00:00,  2.04it/s, accuracy=0.107, lr=3e-5, train_loss=12.1]\n",
      "100%|██████████| 14/14 [00:02<00:00,  4.91it/s, accuracy=0.16, valid_loss=10.3] \n",
      "  0%|          | 0/67 [00:00<?, ?it/s]"
     ]
    },
    {
     "name": "stdout",
     "output_type": "stream",
     "text": [
      "Saved best model!\n",
      "******************************\n",
      "******************************\n",
      "Epoch 16\n"
     ]
    },
    {
     "name": "stderr",
     "output_type": "stream",
     "text": [
      "100%|██████████| 67/67 [00:32<00:00,  2.03it/s, accuracy=0.119, lr=3e-5, train_loss=11.6]\n",
      "100%|██████████| 14/14 [00:02<00:00,  4.93it/s, accuracy=0.175, valid_loss=9.72]\n",
      "  0%|          | 0/67 [00:00<?, ?it/s]"
     ]
    },
    {
     "name": "stdout",
     "output_type": "stream",
     "text": [
      "Saved best model!\n",
      "******************************\n",
      "******************************\n",
      "Epoch 17\n"
     ]
    },
    {
     "name": "stderr",
     "output_type": "stream",
     "text": [
      "100%|██████████| 67/67 [00:33<00:00,  2.03it/s, accuracy=0.131, lr=3e-5, train_loss=11.1]\n",
      "100%|██████████| 14/14 [00:02<00:00,  4.77it/s, accuracy=0.192, valid_loss=9.2] \n",
      "  0%|          | 0/67 [00:00<?, ?it/s]"
     ]
    },
    {
     "name": "stdout",
     "output_type": "stream",
     "text": [
      "Saved best model!\n",
      "******************************\n",
      "******************************\n",
      "Epoch 18\n"
     ]
    },
    {
     "name": "stderr",
     "output_type": "stream",
     "text": [
      "100%|██████████| 67/67 [00:33<00:00,  2.03it/s, accuracy=0.143, lr=3e-5, train_loss=10.6]\n",
      "100%|██████████| 14/14 [00:02<00:00,  5.03it/s, accuracy=0.209, valid_loss=8.7] \n",
      "  0%|          | 0/67 [00:00<?, ?it/s]"
     ]
    },
    {
     "name": "stdout",
     "output_type": "stream",
     "text": [
      "Saved best model!\n",
      "******************************\n",
      "******************************\n",
      "Epoch 19\n"
     ]
    },
    {
     "name": "stderr",
     "output_type": "stream",
     "text": [
      "100%|██████████| 67/67 [00:32<00:00,  2.03it/s, accuracy=0.157, lr=3e-5, train_loss=10.1]\n",
      "100%|██████████| 14/14 [00:02<00:00,  4.98it/s, accuracy=0.229, valid_loss=8.2] \n",
      "  0%|          | 0/67 [00:00<?, ?it/s]"
     ]
    },
    {
     "name": "stdout",
     "output_type": "stream",
     "text": [
      "Saved best model!\n",
      "******************************\n",
      "******************************\n",
      "Epoch 20\n"
     ]
    },
    {
     "name": "stderr",
     "output_type": "stream",
     "text": [
      "100%|██████████| 67/67 [00:32<00:00,  2.04it/s, accuracy=0.169, lr=3e-5, train_loss=9.7] \n",
      "100%|██████████| 14/14 [00:02<00:00,  5.00it/s, accuracy=0.247, valid_loss=7.75]\n",
      "  0%|          | 0/67 [00:00<?, ?it/s]"
     ]
    },
    {
     "name": "stdout",
     "output_type": "stream",
     "text": [
      "Saved best model!\n",
      "******************************\n",
      "******************************\n",
      "Epoch 21\n"
     ]
    },
    {
     "name": "stderr",
     "output_type": "stream",
     "text": [
      "100%|██████████| 67/67 [00:33<00:00,  2.03it/s, accuracy=0.183, lr=3e-5, train_loss=9.27]\n",
      "100%|██████████| 14/14 [00:02<00:00,  5.01it/s, accuracy=0.264, valid_loss=7.29]\n",
      "  0%|          | 0/67 [00:00<?, ?it/s]"
     ]
    },
    {
     "name": "stdout",
     "output_type": "stream",
     "text": [
      "Saved best model!\n",
      "******************************\n",
      "******************************\n",
      "Epoch 22\n"
     ]
    },
    {
     "name": "stderr",
     "output_type": "stream",
     "text": [
      "100%|██████████| 67/67 [00:32<00:00,  2.03it/s, accuracy=0.196, lr=3e-5, train_loss=8.87]\n",
      "100%|██████████| 14/14 [00:02<00:00,  4.97it/s, accuracy=0.284, valid_loss=6.88]\n",
      "  0%|          | 0/67 [00:00<?, ?it/s]"
     ]
    },
    {
     "name": "stdout",
     "output_type": "stream",
     "text": [
      "Saved best model!\n",
      "******************************\n",
      "******************************\n",
      "Epoch 23\n"
     ]
    },
    {
     "name": "stderr",
     "output_type": "stream",
     "text": [
      "100%|██████████| 67/67 [00:32<00:00,  2.04it/s, accuracy=0.212, lr=3e-5, train_loss=8.47]\n",
      "100%|██████████| 14/14 [00:02<00:00,  4.99it/s, accuracy=0.306, valid_loss=6.45]\n",
      "  0%|          | 0/67 [00:00<?, ?it/s]"
     ]
    },
    {
     "name": "stdout",
     "output_type": "stream",
     "text": [
      "Saved best model!\n",
      "******************************\n",
      "******************************\n",
      "Epoch 24\n"
     ]
    },
    {
     "name": "stderr",
     "output_type": "stream",
     "text": [
      "100%|██████████| 67/67 [00:32<00:00,  2.04it/s, accuracy=0.226, lr=3e-5, train_loss=8.08]\n",
      "100%|██████████| 14/14 [00:02<00:00,  5.00it/s, accuracy=0.329, valid_loss=6.07]\n",
      "  0%|          | 0/67 [00:00<?, ?it/s]"
     ]
    },
    {
     "name": "stdout",
     "output_type": "stream",
     "text": [
      "Saved best model!\n",
      "******************************\n",
      "******************************\n",
      "Epoch 25\n"
     ]
    },
    {
     "name": "stderr",
     "output_type": "stream",
     "text": [
      "100%|██████████| 67/67 [00:32<00:00,  2.04it/s, accuracy=0.241, lr=3e-5, train_loss=7.71]\n",
      "100%|██████████| 14/14 [00:02<00:00,  5.02it/s, accuracy=0.352, valid_loss=5.69]\n",
      "  0%|          | 0/67 [00:00<?, ?it/s]"
     ]
    },
    {
     "name": "stdout",
     "output_type": "stream",
     "text": [
      "Saved best model!\n",
      "******************************\n",
      "******************************\n",
      "Epoch 26\n"
     ]
    },
    {
     "name": "stderr",
     "output_type": "stream",
     "text": [
      "100%|██████████| 67/67 [00:32<00:00,  2.04it/s, accuracy=0.258, lr=3e-5, train_loss=7.34]\n",
      "100%|██████████| 14/14 [00:02<00:00,  4.93it/s, accuracy=0.374, valid_loss=5.32]\n",
      "  0%|          | 0/67 [00:00<?, ?it/s]"
     ]
    },
    {
     "name": "stdout",
     "output_type": "stream",
     "text": [
      "Saved best model!\n",
      "******************************\n",
      "******************************\n",
      "Epoch 27\n"
     ]
    },
    {
     "name": "stderr",
     "output_type": "stream",
     "text": [
      "100%|██████████| 67/67 [00:32<00:00,  2.04it/s, accuracy=0.272, lr=3e-5, train_loss=7]   \n",
      "100%|██████████| 14/14 [00:02<00:00,  5.00it/s, accuracy=0.402, valid_loss=4.98]\n",
      "  0%|          | 0/67 [00:00<?, ?it/s]"
     ]
    },
    {
     "name": "stdout",
     "output_type": "stream",
     "text": [
      "Saved best model!\n",
      "******************************\n",
      "******************************\n",
      "Epoch 28\n"
     ]
    },
    {
     "name": "stderr",
     "output_type": "stream",
     "text": [
      "100%|██████████| 67/67 [00:32<00:00,  2.04it/s, accuracy=0.29, lr=3e-5, train_loss=6.66] \n",
      "100%|██████████| 14/14 [00:02<00:00,  5.01it/s, accuracy=0.43, valid_loss=4.64] \n",
      "  0%|          | 0/67 [00:00<?, ?it/s]"
     ]
    },
    {
     "name": "stdout",
     "output_type": "stream",
     "text": [
      "Saved best model!\n",
      "******************************\n",
      "******************************\n",
      "Epoch 29\n"
     ]
    },
    {
     "name": "stderr",
     "output_type": "stream",
     "text": [
      "100%|██████████| 67/67 [00:32<00:00,  2.03it/s, accuracy=0.308, lr=3e-5, train_loss=6.33]\n",
      "100%|██████████| 14/14 [00:02<00:00,  4.97it/s, accuracy=0.456, valid_loss=4.32]\n",
      "  0%|          | 0/67 [00:00<?, ?it/s]"
     ]
    },
    {
     "name": "stdout",
     "output_type": "stream",
     "text": [
      "Saved best model!\n",
      "******************************\n",
      "******************************\n",
      "Epoch 30\n"
     ]
    },
    {
     "name": "stderr",
     "output_type": "stream",
     "text": [
      "100%|██████████| 67/67 [00:32<00:00,  2.04it/s, accuracy=0.325, lr=3e-5, train_loss=6.02]\n",
      "100%|██████████| 14/14 [00:02<00:00,  4.98it/s, accuracy=0.479, valid_loss=4.01]\n",
      "  0%|          | 0/67 [00:00<?, ?it/s]"
     ]
    },
    {
     "name": "stdout",
     "output_type": "stream",
     "text": [
      "Saved best model!\n",
      "******************************\n",
      "******************************\n",
      "Epoch 31\n"
     ]
    },
    {
     "name": "stderr",
     "output_type": "stream",
     "text": [
      "100%|██████████| 67/67 [00:33<00:00,  2.03it/s, accuracy=0.346, lr=3e-5, train_loss=5.71]\n",
      "100%|██████████| 14/14 [00:02<00:00,  4.88it/s, accuracy=0.512, valid_loss=3.71]\n",
      "  0%|          | 0/67 [00:00<?, ?it/s]"
     ]
    },
    {
     "name": "stdout",
     "output_type": "stream",
     "text": [
      "Saved best model!\n",
      "******************************\n",
      "******************************\n",
      "Epoch 32\n"
     ]
    },
    {
     "name": "stderr",
     "output_type": "stream",
     "text": [
      "100%|██████████| 67/67 [00:32<00:00,  2.04it/s, accuracy=0.367, lr=3e-5, train_loss=5.41]\n",
      "100%|██████████| 14/14 [00:02<00:00,  5.03it/s, accuracy=0.541, valid_loss=3.44]\n",
      "  0%|          | 0/67 [00:00<?, ?it/s]"
     ]
    },
    {
     "name": "stdout",
     "output_type": "stream",
     "text": [
      "Saved best model!\n",
      "******************************\n",
      "******************************\n",
      "Epoch 33\n"
     ]
    },
    {
     "name": "stderr",
     "output_type": "stream",
     "text": [
      "100%|██████████| 67/67 [00:32<00:00,  2.04it/s, accuracy=0.388, lr=3e-5, train_loss=5.13]\n",
      "100%|██████████| 14/14 [00:02<00:00,  5.06it/s, accuracy=0.57, valid_loss=3.18] \n",
      "  0%|          | 0/67 [00:00<?, ?it/s]"
     ]
    },
    {
     "name": "stdout",
     "output_type": "stream",
     "text": [
      "Saved best model!\n",
      "******************************\n",
      "******************************\n",
      "Epoch 34\n"
     ]
    },
    {
     "name": "stderr",
     "output_type": "stream",
     "text": [
      "100%|██████████| 67/67 [00:32<00:00,  2.04it/s, accuracy=0.413, lr=3e-5, train_loss=4.86]\n",
      "100%|██████████| 14/14 [00:02<00:00,  5.03it/s, accuracy=0.597, valid_loss=2.93]\n",
      "  0%|          | 0/67 [00:00<?, ?it/s]"
     ]
    },
    {
     "name": "stdout",
     "output_type": "stream",
     "text": [
      "Saved best model!\n",
      "******************************\n",
      "******************************\n",
      "Epoch 35\n"
     ]
    },
    {
     "name": "stderr",
     "output_type": "stream",
     "text": [
      "100%|██████████| 67/67 [00:32<00:00,  2.04it/s, accuracy=0.433, lr=3e-5, train_loss=4.6] \n",
      "100%|██████████| 14/14 [00:02<00:00,  5.04it/s, accuracy=0.623, valid_loss=2.7] \n",
      "  0%|          | 0/67 [00:00<?, ?it/s]"
     ]
    },
    {
     "name": "stdout",
     "output_type": "stream",
     "text": [
      "Saved best model!\n",
      "******************************\n",
      "******************************\n",
      "Epoch 36\n"
     ]
    },
    {
     "name": "stderr",
     "output_type": "stream",
     "text": [
      "100%|██████████| 67/67 [00:32<00:00,  2.04it/s, accuracy=0.458, lr=3e-5, train_loss=4.34]\n",
      "100%|██████████| 14/14 [00:02<00:00,  5.03it/s, accuracy=0.646, valid_loss=2.48]\n",
      "  0%|          | 0/67 [00:00<?, ?it/s]"
     ]
    },
    {
     "name": "stdout",
     "output_type": "stream",
     "text": [
      "Saved best model!\n",
      "******************************\n",
      "******************************\n",
      "Epoch 37\n"
     ]
    },
    {
     "name": "stderr",
     "output_type": "stream",
     "text": [
      "100%|██████████| 67/67 [00:32<00:00,  2.03it/s, accuracy=0.483, lr=3e-5, train_loss=4.1] \n",
      "100%|██████████| 14/14 [00:02<00:00,  4.77it/s, accuracy=0.67, valid_loss=2.28] \n",
      "  0%|          | 0/67 [00:00<?, ?it/s]"
     ]
    },
    {
     "name": "stdout",
     "output_type": "stream",
     "text": [
      "Saved best model!\n",
      "******************************\n",
      "******************************\n",
      "Epoch 38\n"
     ]
    },
    {
     "name": "stderr",
     "output_type": "stream",
     "text": [
      "100%|██████████| 67/67 [00:32<00:00,  2.03it/s, accuracy=0.506, lr=3e-5, train_loss=3.86]\n",
      "100%|██████████| 14/14 [00:02<00:00,  5.03it/s, accuracy=0.696, valid_loss=2.09]\n",
      "  0%|          | 0/67 [00:00<?, ?it/s]"
     ]
    },
    {
     "name": "stdout",
     "output_type": "stream",
     "text": [
      "Saved best model!\n",
      "******************************\n",
      "******************************\n",
      "Epoch 39\n"
     ]
    },
    {
     "name": "stderr",
     "output_type": "stream",
     "text": [
      "100%|██████████| 67/67 [00:32<00:00,  2.04it/s, accuracy=0.528, lr=3e-5, train_loss=3.64]\n",
      "100%|██████████| 14/14 [00:02<00:00,  5.01it/s, accuracy=0.717, valid_loss=1.92]\n",
      "  0%|          | 0/67 [00:00<?, ?it/s]"
     ]
    },
    {
     "name": "stdout",
     "output_type": "stream",
     "text": [
      "Saved best model!\n",
      "******************************\n",
      "******************************\n",
      "Epoch 40\n"
     ]
    },
    {
     "name": "stderr",
     "output_type": "stream",
     "text": [
      "100%|██████████| 67/67 [00:32<00:00,  2.03it/s, accuracy=0.552, lr=3e-5, train_loss=3.43]\n",
      "100%|██████████| 14/14 [00:02<00:00,  4.78it/s, accuracy=0.743, valid_loss=1.75]\n",
      "  0%|          | 0/67 [00:00<?, ?it/s]"
     ]
    },
    {
     "name": "stdout",
     "output_type": "stream",
     "text": [
      "Saved best model!\n",
      "******************************\n",
      "******************************\n",
      "Epoch 41\n"
     ]
    },
    {
     "name": "stderr",
     "output_type": "stream",
     "text": [
      "100%|██████████| 67/67 [00:33<00:00,  2.02it/s, accuracy=0.575, lr=3e-5, train_loss=3.23]\n",
      "100%|██████████| 14/14 [00:02<00:00,  4.97it/s, accuracy=0.764, valid_loss=1.61]\n",
      "  0%|          | 0/67 [00:00<?, ?it/s]"
     ]
    },
    {
     "name": "stdout",
     "output_type": "stream",
     "text": [
      "Saved best model!\n",
      "******************************\n",
      "******************************\n",
      "Epoch 42\n"
     ]
    },
    {
     "name": "stderr",
     "output_type": "stream",
     "text": [
      "100%|██████████| 67/67 [00:32<00:00,  2.04it/s, accuracy=0.596, lr=3e-5, train_loss=3.03]\n",
      "100%|██████████| 14/14 [00:02<00:00,  5.01it/s, accuracy=0.783, valid_loss=1.46]\n",
      "  0%|          | 0/67 [00:00<?, ?it/s]"
     ]
    },
    {
     "name": "stdout",
     "output_type": "stream",
     "text": [
      "Saved best model!\n",
      "******************************\n",
      "******************************\n",
      "Epoch 43\n"
     ]
    },
    {
     "name": "stderr",
     "output_type": "stream",
     "text": [
      "100%|██████████| 67/67 [00:32<00:00,  2.03it/s, accuracy=0.618, lr=3e-5, train_loss=2.85]\n",
      "100%|██████████| 14/14 [00:02<00:00,  4.81it/s, accuracy=0.802, valid_loss=1.33]\n",
      "  0%|          | 0/67 [00:00<?, ?it/s]"
     ]
    },
    {
     "name": "stdout",
     "output_type": "stream",
     "text": [
      "Saved best model!\n",
      "******************************\n",
      "******************************\n",
      "Epoch 44\n"
     ]
    },
    {
     "name": "stderr",
     "output_type": "stream",
     "text": [
      "100%|██████████| 67/67 [00:32<00:00,  2.04it/s, accuracy=0.639, lr=3e-5, train_loss=2.67]\n",
      "100%|██████████| 14/14 [00:02<00:00,  4.97it/s, accuracy=0.821, valid_loss=1.21]\n",
      "  0%|          | 0/67 [00:00<?, ?it/s]"
     ]
    },
    {
     "name": "stdout",
     "output_type": "stream",
     "text": [
      "Saved best model!\n",
      "******************************\n",
      "******************************\n",
      "Epoch 45\n"
     ]
    },
    {
     "name": "stderr",
     "output_type": "stream",
     "text": [
      "100%|██████████| 67/67 [00:32<00:00,  2.03it/s, accuracy=0.661, lr=3e-5, train_loss=2.5] \n",
      "100%|██████████| 14/14 [00:02<00:00,  5.04it/s, accuracy=0.836, valid_loss=1.1] \n",
      "  0%|          | 0/67 [00:00<?, ?it/s]"
     ]
    },
    {
     "name": "stdout",
     "output_type": "stream",
     "text": [
      "Saved best model!\n",
      "******************************\n",
      "******************************\n",
      "Epoch 46\n"
     ]
    },
    {
     "name": "stderr",
     "output_type": "stream",
     "text": [
      "100%|██████████| 67/67 [00:32<00:00,  2.03it/s, accuracy=0.679, lr=3e-5, train_loss=2.35]\n",
      "100%|██████████| 14/14 [00:02<00:00,  5.02it/s, accuracy=0.852, valid_loss=1]    \n",
      "  0%|          | 0/67 [00:00<?, ?it/s]"
     ]
    },
    {
     "name": "stdout",
     "output_type": "stream",
     "text": [
      "Saved best model!\n",
      "******************************\n",
      "******************************\n",
      "Epoch 47\n"
     ]
    },
    {
     "name": "stderr",
     "output_type": "stream",
     "text": [
      "100%|██████████| 67/67 [00:32<00:00,  2.03it/s, accuracy=0.698, lr=3e-5, train_loss=2.2] \n",
      "100%|██████████| 14/14 [00:02<00:00,  5.01it/s, accuracy=0.867, valid_loss=0.911]\n",
      "  0%|          | 0/67 [00:00<?, ?it/s]"
     ]
    },
    {
     "name": "stdout",
     "output_type": "stream",
     "text": [
      "Saved best model!\n",
      "******************************\n",
      "******************************\n",
      "Epoch 48\n"
     ]
    },
    {
     "name": "stderr",
     "output_type": "stream",
     "text": [
      "100%|██████████| 67/67 [00:32<00:00,  2.03it/s, accuracy=0.717, lr=3e-5, train_loss=2.06]\n",
      "100%|██████████| 14/14 [00:02<00:00,  5.02it/s, accuracy=0.88, valid_loss=0.829] \n",
      "  0%|          | 0/67 [00:00<?, ?it/s]"
     ]
    },
    {
     "name": "stdout",
     "output_type": "stream",
     "text": [
      "Saved best model!\n",
      "******************************\n",
      "******************************\n",
      "Epoch 49\n"
     ]
    },
    {
     "name": "stderr",
     "output_type": "stream",
     "text": [
      "100%|██████████| 67/67 [00:32<00:00,  2.03it/s, accuracy=0.732, lr=3e-5, train_loss=1.93]\n",
      "100%|██████████| 14/14 [00:02<00:00,  4.98it/s, accuracy=0.894, valid_loss=0.758]\n",
      "  0%|          | 0/67 [00:00<?, ?it/s]"
     ]
    },
    {
     "name": "stdout",
     "output_type": "stream",
     "text": [
      "Saved best model!\n",
      "******************************\n",
      "******************************\n",
      "Epoch 50\n"
     ]
    },
    {
     "name": "stderr",
     "output_type": "stream",
     "text": [
      "100%|██████████| 67/67 [00:32<00:00,  2.03it/s, accuracy=0.752, lr=3e-5, train_loss=1.8] \n",
      "100%|██████████| 14/14 [00:02<00:00,  5.00it/s, accuracy=0.905, valid_loss=0.685]\n",
      "  0%|          | 0/67 [00:00<?, ?it/s]"
     ]
    },
    {
     "name": "stdout",
     "output_type": "stream",
     "text": [
      "Saved best model!\n",
      "******************************\n",
      "******************************\n",
      "Epoch 51\n"
     ]
    },
    {
     "name": "stderr",
     "output_type": "stream",
     "text": [
      "100%|██████████| 67/67 [00:33<00:00,  2.03it/s, accuracy=0.771, lr=3e-5, train_loss=1.68]\n",
      "100%|██████████| 14/14 [00:02<00:00,  5.00it/s, accuracy=0.917, valid_loss=0.621]\n",
      "  0%|          | 0/67 [00:00<?, ?it/s]"
     ]
    },
    {
     "name": "stdout",
     "output_type": "stream",
     "text": [
      "Saved best model!\n",
      "******************************\n",
      "******************************\n",
      "Epoch 52\n"
     ]
    },
    {
     "name": "stderr",
     "output_type": "stream",
     "text": [
      "100%|██████████| 67/67 [00:32<00:00,  2.04it/s, accuracy=0.785, lr=3e-5, train_loss=1.57]\n",
      "100%|██████████| 14/14 [00:02<00:00,  4.99it/s, accuracy=0.926, valid_loss=0.567]\n",
      "  0%|          | 0/67 [00:00<?, ?it/s]"
     ]
    },
    {
     "name": "stdout",
     "output_type": "stream",
     "text": [
      "Saved best model!\n",
      "******************************\n",
      "******************************\n",
      "Epoch 53\n"
     ]
    },
    {
     "name": "stderr",
     "output_type": "stream",
     "text": [
      "100%|██████████| 67/67 [00:32<00:00,  2.04it/s, accuracy=0.8, lr=3e-5, train_loss=1.46]  \n",
      "100%|██████████| 14/14 [00:02<00:00,  4.98it/s, accuracy=0.935, valid_loss=0.518]\n",
      "  0%|          | 0/67 [00:00<?, ?it/s]"
     ]
    },
    {
     "name": "stdout",
     "output_type": "stream",
     "text": [
      "Saved best model!\n",
      "******************************\n",
      "******************************\n",
      "Epoch 54\n"
     ]
    },
    {
     "name": "stderr",
     "output_type": "stream",
     "text": [
      "100%|██████████| 67/67 [00:32<00:00,  2.04it/s, accuracy=0.815, lr=3e-5, train_loss=1.37]\n",
      "100%|██████████| 14/14 [00:02<00:00,  5.03it/s, accuracy=0.943, valid_loss=0.468]\n",
      "  0%|          | 0/67 [00:00<?, ?it/s]"
     ]
    },
    {
     "name": "stdout",
     "output_type": "stream",
     "text": [
      "Saved best model!\n",
      "******************************\n",
      "******************************\n",
      "Epoch 55\n"
     ]
    },
    {
     "name": "stderr",
     "output_type": "stream",
     "text": [
      "100%|██████████| 67/67 [00:32<00:00,  2.04it/s, accuracy=0.828, lr=3e-5, train_loss=1.28]\n",
      "100%|██████████| 14/14 [00:02<00:00,  5.02it/s, accuracy=0.949, valid_loss=0.426]\n",
      "  0%|          | 0/67 [00:00<?, ?it/s]"
     ]
    },
    {
     "name": "stdout",
     "output_type": "stream",
     "text": [
      "Saved best model!\n",
      "******************************\n",
      "******************************\n",
      "Epoch 56\n"
     ]
    },
    {
     "name": "stderr",
     "output_type": "stream",
     "text": [
      "100%|██████████| 67/67 [00:32<00:00,  2.04it/s, accuracy=0.843, lr=3e-5, train_loss=1.19]\n",
      "100%|██████████| 14/14 [00:02<00:00,  4.97it/s, accuracy=0.956, valid_loss=0.389]\n",
      "  0%|          | 0/67 [00:00<?, ?it/s]"
     ]
    },
    {
     "name": "stdout",
     "output_type": "stream",
     "text": [
      "Saved best model!\n",
      "******************************\n",
      "******************************\n",
      "Epoch 57\n"
     ]
    },
    {
     "name": "stderr",
     "output_type": "stream",
     "text": [
      "100%|██████████| 67/67 [00:32<00:00,  2.04it/s, accuracy=0.856, lr=3e-5, train_loss=1.1] \n",
      "100%|██████████| 14/14 [00:02<00:00,  4.98it/s, accuracy=0.96, valid_loss=0.363] \n",
      "  0%|          | 0/67 [00:00<?, ?it/s]"
     ]
    },
    {
     "name": "stdout",
     "output_type": "stream",
     "text": [
      "Saved best model!\n",
      "******************************\n",
      "******************************\n",
      "Epoch 58\n"
     ]
    },
    {
     "name": "stderr",
     "output_type": "stream",
     "text": [
      "100%|██████████| 67/67 [00:32<00:00,  2.04it/s, accuracy=0.87, lr=3e-5, train_loss=1.03] \n",
      "100%|██████████| 14/14 [00:02<00:00,  4.91it/s, accuracy=0.964, valid_loss=0.326]\n",
      "  0%|          | 0/67 [00:00<?, ?it/s]"
     ]
    },
    {
     "name": "stdout",
     "output_type": "stream",
     "text": [
      "Saved best model!\n",
      "******************************\n",
      "******************************\n",
      "Epoch 59\n"
     ]
    },
    {
     "name": "stderr",
     "output_type": "stream",
     "text": [
      "100%|██████████| 67/67 [00:33<00:00,  2.03it/s, accuracy=0.88, lr=3e-5, train_loss=0.962] \n",
      "100%|██████████| 14/14 [00:02<00:00,  5.03it/s, accuracy=0.969, valid_loss=0.3]  \n",
      "  0%|          | 0/67 [00:00<?, ?it/s]"
     ]
    },
    {
     "name": "stdout",
     "output_type": "stream",
     "text": [
      "Saved best model!\n",
      "******************************\n",
      "******************************\n",
      "Epoch 60\n"
     ]
    },
    {
     "name": "stderr",
     "output_type": "stream",
     "text": [
      "100%|██████████| 67/67 [00:32<00:00,  2.04it/s, accuracy=0.892, lr=3e-5, train_loss=0.894]\n",
      "100%|██████████| 14/14 [00:02<00:00,  4.73it/s, accuracy=0.974, valid_loss=0.279]\n",
      "  0%|          | 0/67 [00:00<?, ?it/s]"
     ]
    },
    {
     "name": "stdout",
     "output_type": "stream",
     "text": [
      "Saved best model!\n",
      "******************************\n",
      "******************************\n",
      "Epoch 61\n"
     ]
    },
    {
     "name": "stderr",
     "output_type": "stream",
     "text": [
      "100%|██████████| 67/67 [00:32<00:00,  2.04it/s, accuracy=0.904, lr=3e-5, train_loss=0.833]\n",
      "100%|██████████| 14/14 [00:02<00:00,  4.99it/s, accuracy=0.976, valid_loss=0.265]\n",
      "  0%|          | 0/67 [00:00<?, ?it/s]"
     ]
    },
    {
     "name": "stdout",
     "output_type": "stream",
     "text": [
      "Saved best model!\n",
      "******************************\n",
      "******************************\n",
      "Epoch 62\n"
     ]
    },
    {
     "name": "stderr",
     "output_type": "stream",
     "text": [
      "100%|██████████| 67/67 [00:32<00:00,  2.03it/s, accuracy=0.912, lr=3e-5, train_loss=0.781]\n",
      "100%|██████████| 14/14 [00:02<00:00,  5.01it/s, accuracy=0.979, valid_loss=0.244]\n",
      "  0%|          | 0/67 [00:00<?, ?it/s]"
     ]
    },
    {
     "name": "stdout",
     "output_type": "stream",
     "text": [
      "Saved best model!\n",
      "******************************\n",
      "******************************\n",
      "Epoch 63\n"
     ]
    },
    {
     "name": "stderr",
     "output_type": "stream",
     "text": [
      "100%|██████████| 67/67 [00:32<00:00,  2.04it/s, accuracy=0.922, lr=3e-5, train_loss=0.723]\n",
      "100%|██████████| 14/14 [00:02<00:00,  4.99it/s, accuracy=0.982, valid_loss=0.226]\n",
      "  0%|          | 0/67 [00:00<?, ?it/s]"
     ]
    },
    {
     "name": "stdout",
     "output_type": "stream",
     "text": [
      "Saved best model!\n",
      "******************************\n",
      "******************************\n",
      "Epoch 64\n"
     ]
    },
    {
     "name": "stderr",
     "output_type": "stream",
     "text": [
      "100%|██████████| 67/67 [00:32<00:00,  2.04it/s, accuracy=0.928, lr=3e-5, train_loss=0.678]\n",
      "100%|██████████| 14/14 [00:02<00:00,  4.99it/s, accuracy=0.983, valid_loss=0.218]\n",
      "  0%|          | 0/67 [00:00<?, ?it/s]"
     ]
    },
    {
     "name": "stdout",
     "output_type": "stream",
     "text": [
      "Saved best model!\n",
      "******************************\n",
      "******************************\n",
      "Epoch 65\n"
     ]
    },
    {
     "name": "stderr",
     "output_type": "stream",
     "text": [
      "100%|██████████| 67/67 [00:32<00:00,  2.04it/s, accuracy=0.936, lr=3e-5, train_loss=0.635]\n",
      "100%|██████████| 14/14 [00:02<00:00,  4.93it/s, accuracy=0.985, valid_loss=0.2]  \n",
      "  0%|          | 0/67 [00:00<?, ?it/s]"
     ]
    },
    {
     "name": "stdout",
     "output_type": "stream",
     "text": [
      "Saved best model!\n",
      "******************************\n",
      "******************************\n",
      "Epoch 66\n"
     ]
    },
    {
     "name": "stderr",
     "output_type": "stream",
     "text": [
      "100%|██████████| 67/67 [00:32<00:00,  2.03it/s, accuracy=0.942, lr=3e-5, train_loss=0.594]\n",
      "100%|██████████| 14/14 [00:02<00:00,  5.03it/s, accuracy=0.986, valid_loss=0.189]\n",
      "  0%|          | 0/67 [00:00<?, ?it/s]"
     ]
    },
    {
     "name": "stdout",
     "output_type": "stream",
     "text": [
      "Saved best model!\n",
      "******************************\n",
      "******************************\n",
      "Epoch 67\n"
     ]
    },
    {
     "name": "stderr",
     "output_type": "stream",
     "text": [
      "100%|██████████| 67/67 [00:32<00:00,  2.04it/s, accuracy=0.948, lr=3e-5, train_loss=0.556]\n",
      "100%|██████████| 14/14 [00:02<00:00,  5.05it/s, accuracy=0.987, valid_loss=0.18] \n",
      "  0%|          | 0/67 [00:00<?, ?it/s]"
     ]
    },
    {
     "name": "stdout",
     "output_type": "stream",
     "text": [
      "Saved best model!\n",
      "******************************\n",
      "******************************\n",
      "Epoch 68\n"
     ]
    },
    {
     "name": "stderr",
     "output_type": "stream",
     "text": [
      "100%|██████████| 67/67 [00:32<00:00,  2.03it/s, accuracy=0.953, lr=3e-5, train_loss=0.524]\n",
      "100%|██████████| 14/14 [00:02<00:00,  5.01it/s, accuracy=0.987, valid_loss=0.176]\n",
      "  0%|          | 0/67 [00:00<?, ?it/s]"
     ]
    },
    {
     "name": "stdout",
     "output_type": "stream",
     "text": [
      "Saved best model!\n",
      "******************************\n",
      "******************************\n",
      "Epoch 69\n"
     ]
    },
    {
     "name": "stderr",
     "output_type": "stream",
     "text": [
      "100%|██████████| 67/67 [00:32<00:00,  2.03it/s, accuracy=0.959, lr=3e-5, train_loss=0.492]\n",
      "100%|██████████| 14/14 [00:02<00:00,  5.02it/s, accuracy=0.987, valid_loss=0.173]\n",
      "  0%|          | 0/67 [00:00<?, ?it/s]"
     ]
    },
    {
     "name": "stdout",
     "output_type": "stream",
     "text": [
      "Saved best model!\n",
      "******************************\n",
      "******************************\n",
      "Epoch 70\n"
     ]
    },
    {
     "name": "stderr",
     "output_type": "stream",
     "text": [
      "100%|██████████| 67/67 [00:33<00:00,  2.03it/s, accuracy=0.962, lr=3e-5, train_loss=0.465]\n",
      "100%|██████████| 14/14 [00:02<00:00,  5.01it/s, accuracy=0.988, valid_loss=0.163]\n",
      "  0%|          | 0/67 [00:00<?, ?it/s]"
     ]
    },
    {
     "name": "stdout",
     "output_type": "stream",
     "text": [
      "Saved best model!\n",
      "******************************\n",
      "******************************\n",
      "Epoch 71\n"
     ]
    },
    {
     "name": "stderr",
     "output_type": "stream",
     "text": [
      "100%|██████████| 67/67 [00:32<00:00,  2.04it/s, accuracy=0.966, lr=3e-5, train_loss=0.435]\n",
      "100%|██████████| 14/14 [00:02<00:00,  5.00it/s, accuracy=0.989, valid_loss=0.158]\n",
      "  0%|          | 0/67 [00:00<?, ?it/s]"
     ]
    },
    {
     "name": "stdout",
     "output_type": "stream",
     "text": [
      "Saved best model!\n",
      "******************************\n",
      "******************************\n",
      "Epoch 72\n"
     ]
    },
    {
     "name": "stderr",
     "output_type": "stream",
     "text": [
      "100%|██████████| 67/67 [00:32<00:00,  2.03it/s, accuracy=0.969, lr=3e-5, train_loss=0.41] \n",
      "100%|██████████| 14/14 [00:02<00:00,  4.80it/s, accuracy=0.989, valid_loss=0.151]\n",
      "  0%|          | 0/67 [00:00<?, ?it/s]"
     ]
    },
    {
     "name": "stdout",
     "output_type": "stream",
     "text": [
      "Saved best model!\n",
      "******************************\n",
      "******************************\n",
      "Epoch 73\n"
     ]
    },
    {
     "name": "stderr",
     "output_type": "stream",
     "text": [
      "100%|██████████| 67/67 [00:32<00:00,  2.03it/s, accuracy=0.973, lr=3e-5, train_loss=0.389]\n",
      "100%|██████████| 14/14 [00:02<00:00,  4.99it/s, accuracy=0.989, valid_loss=0.147]\n",
      "  0%|          | 0/67 [00:00<?, ?it/s]"
     ]
    },
    {
     "name": "stdout",
     "output_type": "stream",
     "text": [
      "Saved best model!\n",
      "******************************\n",
      "******************************\n",
      "Epoch 74\n"
     ]
    },
    {
     "name": "stderr",
     "output_type": "stream",
     "text": [
      "100%|██████████| 67/67 [00:32<00:00,  2.04it/s, accuracy=0.974, lr=3e-5, train_loss=0.372]\n",
      "100%|██████████| 14/14 [00:02<00:00,  4.91it/s, accuracy=0.99, valid_loss=0.148] \n",
      "  0%|          | 0/67 [00:00<?, ?it/s]"
     ]
    },
    {
     "name": "stdout",
     "output_type": "stream",
     "text": [
      "******************************\n",
      "******************************\n",
      "Epoch 75\n"
     ]
    },
    {
     "name": "stderr",
     "output_type": "stream",
     "text": [
      "100%|██████████| 67/67 [00:32<00:00,  2.03it/s, accuracy=0.976, lr=3e-5, train_loss=0.355]\n",
      "100%|██████████| 14/14 [00:02<00:00,  5.06it/s, accuracy=0.99, valid_loss=0.14]  \n",
      "  0%|          | 0/67 [00:00<?, ?it/s]"
     ]
    },
    {
     "name": "stdout",
     "output_type": "stream",
     "text": [
      "Saved best model!\n",
      "******************************\n",
      "******************************\n",
      "Epoch 76\n"
     ]
    },
    {
     "name": "stderr",
     "output_type": "stream",
     "text": [
      "100%|██████████| 67/67 [00:32<00:00,  2.03it/s, accuracy=0.978, lr=3e-5, train_loss=0.338]\n",
      "100%|██████████| 14/14 [00:02<00:00,  4.98it/s, accuracy=0.99, valid_loss=0.14]  \n",
      "  0%|          | 0/67 [00:00<?, ?it/s]"
     ]
    },
    {
     "name": "stdout",
     "output_type": "stream",
     "text": [
      "Saved best model!\n",
      "******************************\n",
      "******************************\n",
      "Epoch 77\n"
     ]
    },
    {
     "name": "stderr",
     "output_type": "stream",
     "text": [
      "100%|██████████| 67/67 [00:32<00:00,  2.03it/s, accuracy=0.98, lr=3e-5, train_loss=0.322] \n",
      "100%|██████████| 14/14 [00:02<00:00,  4.97it/s, accuracy=0.991, valid_loss=0.14] \n",
      "  0%|          | 0/67 [00:00<?, ?it/s]"
     ]
    },
    {
     "name": "stdout",
     "output_type": "stream",
     "text": [
      "******************************\n",
      "******************************\n",
      "Epoch 78\n"
     ]
    },
    {
     "name": "stderr",
     "output_type": "stream",
     "text": [
      "100%|██████████| 67/67 [00:32<00:00,  2.03it/s, accuracy=0.981, lr=3e-5, train_loss=0.307]\n",
      "100%|██████████| 14/14 [00:02<00:00,  5.03it/s, accuracy=0.991, valid_loss=0.134]\n",
      "  0%|          | 0/67 [00:00<?, ?it/s]"
     ]
    },
    {
     "name": "stdout",
     "output_type": "stream",
     "text": [
      "Saved best model!\n",
      "******************************\n",
      "******************************\n",
      "Epoch 79\n"
     ]
    },
    {
     "name": "stderr",
     "output_type": "stream",
     "text": [
      "100%|██████████| 67/67 [00:32<00:00,  2.03it/s, accuracy=0.982, lr=3e-5, train_loss=0.296]\n",
      "100%|██████████| 14/14 [00:02<00:00,  5.05it/s, accuracy=0.992, valid_loss=0.13] \n",
      "  0%|          | 0/67 [00:00<?, ?it/s]"
     ]
    },
    {
     "name": "stdout",
     "output_type": "stream",
     "text": [
      "Saved best model!\n",
      "******************************\n",
      "******************************\n",
      "Epoch 80\n"
     ]
    },
    {
     "name": "stderr",
     "output_type": "stream",
     "text": [
      "100%|██████████| 67/67 [00:33<00:00,  2.02it/s, accuracy=0.984, lr=3e-5, train_loss=0.286]\n",
      "100%|██████████| 14/14 [00:02<00:00,  4.98it/s, accuracy=0.992, valid_loss=0.13] \n",
      "  0%|          | 0/67 [00:00<?, ?it/s]"
     ]
    },
    {
     "name": "stdout",
     "output_type": "stream",
     "text": [
      "******************************\n",
      "******************************\n",
      "Epoch 81\n"
     ]
    },
    {
     "name": "stderr",
     "output_type": "stream",
     "text": [
      "100%|██████████| 67/67 [00:32<00:00,  2.03it/s, accuracy=0.986, lr=3e-5, train_loss=0.271]\n",
      "100%|██████████| 14/14 [00:02<00:00,  5.02it/s, accuracy=0.992, valid_loss=0.128]\n",
      "  0%|          | 0/67 [00:00<?, ?it/s]"
     ]
    },
    {
     "name": "stdout",
     "output_type": "stream",
     "text": [
      "Saved best model!\n",
      "******************************\n",
      "******************************\n",
      "Epoch 82\n"
     ]
    },
    {
     "name": "stderr",
     "output_type": "stream",
     "text": [
      "100%|██████████| 67/67 [00:32<00:00,  2.03it/s, accuracy=0.985, lr=3e-5, train_loss=0.26] \n",
      "100%|██████████| 14/14 [00:02<00:00,  5.05it/s, accuracy=0.992, valid_loss=0.126]\n",
      "  0%|          | 0/67 [00:00<?, ?it/s]"
     ]
    },
    {
     "name": "stdout",
     "output_type": "stream",
     "text": [
      "Saved best model!\n",
      "******************************\n",
      "******************************\n",
      "Epoch 83\n"
     ]
    },
    {
     "name": "stderr",
     "output_type": "stream",
     "text": [
      "100%|██████████| 67/67 [00:32<00:00,  2.04it/s, accuracy=0.986, lr=3e-5, train_loss=0.252]\n",
      "100%|██████████| 14/14 [00:02<00:00,  5.04it/s, accuracy=0.993, valid_loss=0.122]\n",
      "  0%|          | 0/67 [00:00<?, ?it/s]"
     ]
    },
    {
     "name": "stdout",
     "output_type": "stream",
     "text": [
      "Saved best model!\n",
      "******************************\n",
      "******************************\n",
      "Epoch 84\n"
     ]
    },
    {
     "name": "stderr",
     "output_type": "stream",
     "text": [
      "100%|██████████| 67/67 [00:32<00:00,  2.04it/s, accuracy=0.987, lr=3e-5, train_loss=0.244]\n",
      "100%|██████████| 14/14 [00:02<00:00,  5.01it/s, accuracy=0.993, valid_loss=0.123]\n",
      "  0%|          | 0/67 [00:00<?, ?it/s]"
     ]
    },
    {
     "name": "stdout",
     "output_type": "stream",
     "text": [
      "******************************\n",
      "******************************\n",
      "Epoch 85\n"
     ]
    },
    {
     "name": "stderr",
     "output_type": "stream",
     "text": [
      "100%|██████████| 67/67 [00:32<00:00,  2.03it/s, accuracy=0.987, lr=3e-5, train_loss=0.24] \n",
      "100%|██████████| 14/14 [00:02<00:00,  5.02it/s, accuracy=0.993, valid_loss=0.123]\n",
      "  0%|          | 0/67 [00:00<?, ?it/s]"
     ]
    },
    {
     "name": "stdout",
     "output_type": "stream",
     "text": [
      "******************************\n",
      "******************************\n",
      "Epoch 86\n"
     ]
    },
    {
     "name": "stderr",
     "output_type": "stream",
     "text": [
      "100%|██████████| 67/67 [00:32<00:00,  2.03it/s, accuracy=0.987, lr=3e-5, train_loss=0.232]\n",
      "100%|██████████| 14/14 [00:02<00:00,  4.89it/s, accuracy=0.993, valid_loss=0.121]\n",
      "  0%|          | 0/67 [00:00<?, ?it/s]"
     ]
    },
    {
     "name": "stdout",
     "output_type": "stream",
     "text": [
      "Saved best model!\n",
      "******************************\n",
      "******************************\n",
      "Epoch 87\n"
     ]
    },
    {
     "name": "stderr",
     "output_type": "stream",
     "text": [
      "100%|██████████| 67/67 [00:33<00:00,  2.03it/s, accuracy=0.987, lr=3e-5, train_loss=0.225]\n",
      "100%|██████████| 14/14 [00:02<00:00,  5.03it/s, accuracy=0.993, valid_loss=0.122]\n",
      "  0%|          | 0/67 [00:00<?, ?it/s]"
     ]
    },
    {
     "name": "stdout",
     "output_type": "stream",
     "text": [
      "******************************\n",
      "******************************\n",
      "Epoch 88\n"
     ]
    },
    {
     "name": "stderr",
     "output_type": "stream",
     "text": [
      "100%|██████████| 67/67 [00:32<00:00,  2.03it/s, accuracy=0.989, lr=3e-5, train_loss=0.216]\n",
      "100%|██████████| 14/14 [00:02<00:00,  4.93it/s, accuracy=0.993, valid_loss=0.121]\n",
      "  0%|          | 0/67 [00:00<?, ?it/s]"
     ]
    },
    {
     "name": "stdout",
     "output_type": "stream",
     "text": [
      "Saved best model!\n",
      "******************************\n",
      "******************************\n",
      "Epoch 89\n"
     ]
    },
    {
     "name": "stderr",
     "output_type": "stream",
     "text": [
      "100%|██████████| 67/67 [00:32<00:00,  2.03it/s, accuracy=0.989, lr=3e-5, train_loss=0.209]\n",
      "100%|██████████| 14/14 [00:02<00:00,  5.03it/s, accuracy=0.993, valid_loss=0.114]\n",
      "  0%|          | 0/67 [00:00<?, ?it/s]"
     ]
    },
    {
     "name": "stdout",
     "output_type": "stream",
     "text": [
      "Saved best model!\n",
      "******************************\n",
      "******************************\n",
      "Epoch 90\n"
     ]
    },
    {
     "name": "stderr",
     "output_type": "stream",
     "text": [
      "100%|██████████| 67/67 [00:33<00:00,  2.02it/s, accuracy=0.989, lr=3e-5, train_loss=0.204]\n",
      "100%|██████████| 14/14 [00:02<00:00,  4.98it/s, accuracy=0.994, valid_loss=0.116]\n",
      "  0%|          | 0/67 [00:00<?, ?it/s]"
     ]
    },
    {
     "name": "stdout",
     "output_type": "stream",
     "text": [
      "******************************\n",
      "******************************\n",
      "Epoch 91\n"
     ]
    },
    {
     "name": "stderr",
     "output_type": "stream",
     "text": [
      "100%|██████████| 67/67 [00:32<00:00,  2.04it/s, accuracy=0.989, lr=3e-5, train_loss=0.201]\n",
      "100%|██████████| 14/14 [00:02<00:00,  4.97it/s, accuracy=0.994, valid_loss=0.119]\n",
      "  0%|          | 0/67 [00:00<?, ?it/s]"
     ]
    },
    {
     "name": "stdout",
     "output_type": "stream",
     "text": [
      "******************************\n",
      "******************************\n",
      "Epoch 92\n"
     ]
    },
    {
     "name": "stderr",
     "output_type": "stream",
     "text": [
      "100%|██████████| 67/67 [00:32<00:00,  2.04it/s, accuracy=0.99, lr=3e-5, train_loss=0.199] \n",
      "100%|██████████| 14/14 [00:02<00:00,  4.97it/s, accuracy=0.993, valid_loss=0.116]\n"
     ]
    },
    {
     "name": "stdout",
     "output_type": "stream",
     "text": [
      "Loading best model weights!\n"
     ]
    },
    {
     "ename": "RuntimeError",
     "evalue": "Error(s) in loading state_dict for DataParallel:\n\tMissing key(s) in state_dict: \"module.bert_model.embeddings.word_embeddings.weight\", \"module.bert_model.embeddings.position_embeddings.weight\", \"module.bert_model.embeddings.LayerNorm.weight\", \"module.bert_model.embeddings.LayerNorm.bias\", \"module.bert_model.transformer.layer.0.attention.q_lin.weight\", \"module.bert_model.transformer.layer.0.attention.q_lin.bias\", \"module.bert_model.transformer.layer.0.attention.k_lin.weight\", \"module.bert_model.transformer.layer.0.attention.k_lin.bias\", \"module.bert_model.transformer.layer.0.attention.v_lin.weight\", \"module.bert_model.transformer.layer.0.attention.v_lin.bias\", \"module.bert_model.transformer.layer.0.attention.out_lin.weight\", \"module.bert_model.transformer.layer.0.attention.out_lin.bias\", \"module.bert_model.transformer.layer.0.sa_layer_norm.weight\", \"module.bert_model.transformer.layer.0.sa_layer_norm.bias\", \"module.bert_model.transformer.layer.0.ffn.lin1.weight\", \"module.bert_model.transformer.layer.0.ffn.lin1.bias\", \"module.bert_model.transformer.layer.0.ffn.lin2.weight\", \"module.bert_model.transformer.layer.0.ffn.lin2.bias\", \"module.bert_model.transformer.layer.0.output_layer_norm.weight\", \"module.bert_model.transformer.layer.0.output_layer_norm.bias\", \"module.bert_model.transformer.layer.1.attention.q_lin.weight\", \"module.bert_model.transformer.layer.1.attention.q_lin.bias\", \"module.bert_model.transformer.layer.1.attention.k_lin.weight\", \"module.bert_model.transformer.layer.1.attention.k_lin.bias\", \"module.bert_model.transformer.layer.1.attention.v_lin.weight\", \"module.bert_model.transformer.layer.1.attention.v_lin.bias\", \"module.bert_model.transformer.layer.1.attention.out_lin.weight\", \"module.bert_model.transformer.layer.1.attention.out_lin.bias\", \"module.bert_model.transformer.layer.1.sa_layer_norm.weight\", \"module.bert_model.transformer.layer.1.sa_layer_norm.bias\", \"module.bert_model.transformer.layer.1.ffn.lin1.weight\", \"module.bert_model.transformer.layer.1.ffn.lin1.bias\", \"module.bert_model.transformer.layer.1.ffn.lin2.weight\", \"module.bert_model.transformer.layer.1.ffn.lin2.bias\", \"module.bert_model.transformer.layer.1.output_layer_norm.weight\", \"module.bert_model.transformer.layer.1.output_layer_norm.bias\", \"module.bert_model.transformer.layer.2.attention.q_lin.weight\", \"module.bert_model.transformer.layer.2.attention.q_lin.bias\", \"module.bert_model.transformer.layer.2.attention.k_lin.weight\", \"module.bert_model.transformer.layer.2.attention.k_lin.bias\", \"module.bert_model.transformer.layer.2.attention.v_lin.weight\", \"module.bert_model.transformer.layer.2.attention.v_lin.bias\", \"module.bert_model.transformer.layer.2.attention.out_lin.weight\", \"module.bert_model.transformer.layer.2.attention.out_lin.bias\", \"module.bert_model.transformer.layer.2.sa_layer_norm.weight\", \"module.bert_model.transformer.layer.2.sa_layer_norm.bias\", \"module.bert_model.transformer.layer.2.ffn.lin1.weight\", \"module.bert_model.transformer.layer.2.ffn.lin1.bias\", \"module.bert_model.transformer.layer.2.ffn.lin2.weight\", \"module.bert_model.transformer.layer.2.ffn.lin2.bias\", \"module.bert_model.transformer.layer.2.output_layer_norm.weight\", \"module.bert_model.transformer.layer.2.output_layer_norm.bias\", \"module.bert_model.transformer.layer.3.attention.q_lin.weight\", \"module.bert_model.transformer.layer.3.attention.q_lin.bias\", \"module.bert_model.transformer.layer.3.attention.k_lin.weight\", \"module.bert_model.transformer.layer.3.attention.k_lin.bias\", \"module.bert_model.transformer.layer.3.attention.v_lin.weight\", \"module.bert_model.transformer.layer.3.attention.v_lin.bias\", \"module.bert_model.transformer.layer.3.attention.out_lin.weight\", \"module.bert_model.transformer.layer.3.attention.out_lin.bias\", \"module.bert_model.transformer.layer.3.sa_layer_norm.weight\", \"module.bert_model.transformer.layer.3.sa_layer_norm.bias\", \"module.bert_model.transformer.layer.3.ffn.lin1.weight\", \"module.bert_model.transformer.layer.3.ffn.lin1.bias\", \"module.bert_model.transformer.layer.3.ffn.lin2.weight\", \"module.bert_model.transformer.layer.3.ffn.lin2.bias\", \"module.bert_model.transformer.layer.3.output_layer_norm.weight\", \"module.bert_model.transformer.layer.3.output_layer_norm.bias\", \"module.bert_model.transformer.layer.4.attention.q_lin.weight\", \"module.bert_model.transformer.layer.4.attention.q_lin.bias\", \"module.bert_model.transformer.layer.4.attention.k_lin.weight\", \"module.bert_model.transformer.layer.4.attention.k_lin.bias\", \"module.bert_model.transformer.layer.4.attention.v_lin.weight\", \"module.bert_model.transformer.layer.4.attention.v_lin.bias\", \"module.bert_model.transformer.layer.4.attention.out_lin.weight\", \"module.bert_model.transformer.layer.4.attention.out_lin.bias\", \"module.bert_model.transformer.layer.4.sa_layer_norm.weight\", \"module.bert_model.transformer.layer.4.sa_layer_norm.bias\", \"module.bert_model.transformer.layer.4.ffn.lin1.weight\", \"module.bert_model.transformer.layer.4.ffn.lin1.bias\", \"module.bert_model.transformer.layer.4.ffn.lin2.weight\", \"module.bert_model.transformer.layer.4.ffn.lin2.bias\", \"module.bert_model.transformer.layer.4.output_layer_norm.weight\", \"module.bert_model.transformer.layer.4.output_layer_norm.bias\", \"module.bert_model.transformer.layer.5.attention.q_lin.weight\", \"module.bert_model.transformer.layer.5.attention.q_lin.bias\", \"module.bert_model.transformer.layer.5.attention.k_lin.weight\", \"module.bert_model.transformer.layer.5.attention.k_lin.bias\", \"module.bert_model.transformer.layer.5.attention.v_lin.weight\", \"module.bert_model.transformer.layer.5.attention.v_lin.bias\", \"module.bert_model.transformer.layer.5.attention.out_lin.weight\", \"module.bert_model.transformer.layer.5.attention.out_lin.bias\", \"module.bert_model.transformer.layer.5.sa_layer_norm.weight\", \"module.bert_model.transformer.layer.5.sa_layer_norm.bias\", \"module.bert_model.transformer.layer.5.ffn.lin1.weight\", \"module.bert_model.transformer.layer.5.ffn.lin1.bias\", \"module.bert_model.transformer.layer.5.ffn.lin2.weight\", \"module.bert_model.transformer.layer.5.ffn.lin2.bias\", \"module.bert_model.transformer.layer.5.output_layer_norm.weight\", \"module.bert_model.transformer.layer.5.output_layer_norm.bias\", \"module.arc_margin.weight\". \n\tUnexpected key(s) in state_dict: \"bert_model.embeddings.word_embeddings.weight\", \"bert_model.embeddings.position_embeddings.weight\", \"bert_model.embeddings.LayerNorm.weight\", \"bert_model.embeddings.LayerNorm.bias\", \"bert_model.transformer.layer.0.attention.q_lin.weight\", \"bert_model.transformer.layer.0.attention.q_lin.bias\", \"bert_model.transformer.layer.0.attention.k_lin.weight\", \"bert_model.transformer.layer.0.attention.k_lin.bias\", \"bert_model.transformer.layer.0.attention.v_lin.weight\", \"bert_model.transformer.layer.0.attention.v_lin.bias\", \"bert_model.transformer.layer.0.attention.out_lin.weight\", \"bert_model.transformer.layer.0.attention.out_lin.bias\", \"bert_model.transformer.layer.0.sa_layer_norm.weight\", \"bert_model.transformer.layer.0.sa_layer_norm.bias\", \"bert_model.transformer.layer.0.ffn.lin1.weight\", \"bert_model.transformer.layer.0.ffn.lin1.bias\", \"bert_model.transformer.layer.0.ffn.lin2.weight\", \"bert_model.transformer.layer.0.ffn.lin2.bias\", \"bert_model.transformer.layer.0.output_layer_norm.weight\", \"bert_model.transformer.layer.0.output_layer_norm.bias\", \"bert_model.transformer.layer.1.attention.q_lin.weight\", \"bert_model.transformer.layer.1.attention.q_lin.bias\", \"bert_model.transformer.layer.1.attention.k_lin.weight\", \"bert_model.transformer.layer.1.attention.k_lin.bias\", \"bert_model.transformer.layer.1.attention.v_lin.weight\", \"bert_model.transformer.layer.1.attention.v_lin.bias\", \"bert_model.transformer.layer.1.attention.out_lin.weight\", \"bert_model.transformer.layer.1.attention.out_lin.bias\", \"bert_model.transformer.layer.1.sa_layer_norm.weight\", \"bert_model.transformer.layer.1.sa_layer_norm.bias\", \"bert_model.transformer.layer.1.ffn.lin1.weight\", \"bert_model.transformer.layer.1.ffn.lin1.bias\", \"bert_model.transformer.layer.1.ffn.lin2.weight\", \"bert_model.transformer.layer.1.ffn.lin2.bias\", \"bert_model.transformer.layer.1.output_layer_norm.weight\", \"bert_model.transformer.layer.1.output_layer_norm.bias\", \"bert_model.transformer.layer.2.attention.q_lin.weight\", \"bert_model.transformer.layer.2.attention.q_lin.bias\", \"bert_model.transformer.layer.2.attention.k_lin.weight\", \"bert_model.transformer.layer.2.attention.k_lin.bias\", \"bert_model.transformer.layer.2.attention.v_lin.weight\", \"bert_model.transformer.layer.2.attention.v_lin.bias\", \"bert_model.transformer.layer.2.attention.out_lin.weight\", \"bert_model.transformer.layer.2.attention.out_lin.bias\", \"bert_model.transformer.layer.2.sa_layer_norm.weight\", \"bert_model.transformer.layer.2.sa_layer_norm.bias\", \"bert_model.transformer.layer.2.ffn.lin1.weight\", \"bert_model.transformer.layer.2.ffn.lin1.bias\", \"bert_model.transformer.layer.2.ffn.lin2.weight\", \"bert_model.transformer.layer.2.ffn.lin2.bias\", \"bert_model.transformer.layer.2.output_layer_norm.weight\", \"bert_model.transformer.layer.2.output_layer_norm.bias\", \"bert_model.transformer.layer.3.attention.q_lin.weight\", \"bert_model.transformer.layer.3.attention.q_lin.bias\", \"bert_model.transformer.layer.3.attention.k_lin.weight\", \"bert_model.transformer.layer.3.attention.k_lin.bias\", \"bert_model.transformer.layer.3.attention.v_lin.weight\", \"bert_model.transformer.layer.3.attention.v_lin.bias\", \"bert_model.transformer.layer.3.attention.out_lin.weight\", \"bert_model.transformer.layer.3.attention.out_lin.bias\", \"bert_model.transformer.layer.3.sa_layer_norm.weight\", \"bert_model.transformer.layer.3.sa_layer_norm.bias\", \"bert_model.transformer.layer.3.ffn.lin1.weight\", \"bert_model.transformer.layer.3.ffn.lin1.bias\", \"bert_model.transformer.layer.3.ffn.lin2.weight\", \"bert_model.transformer.layer.3.ffn.lin2.bias\", \"bert_model.transformer.layer.3.output_layer_norm.weight\", \"bert_model.transformer.layer.3.output_layer_norm.bias\", \"bert_model.transformer.layer.4.attention.q_lin.weight\", \"bert_model.transformer.layer.4.attention.q_lin.bias\", \"bert_model.transformer.layer.4.attention.k_lin.weight\", \"bert_model.transformer.layer.4.attention.k_lin.bias\", \"bert_model.transformer.layer.4.attention.v_lin.weight\", \"bert_model.transformer.layer.4.attention.v_lin.bias\", \"bert_model.transformer.layer.4.attention.out_lin.weight\", \"bert_model.transformer.layer.4.attention.out_lin.bias\", \"bert_model.transformer.layer.4.sa_layer_norm.weight\", \"bert_model.transformer.layer.4.sa_layer_norm.bias\", \"bert_model.transformer.layer.4.ffn.lin1.weight\", \"bert_model.transformer.layer.4.ffn.lin1.bias\", \"bert_model.transformer.layer.4.ffn.lin2.weight\", \"bert_model.transformer.layer.4.ffn.lin2.bias\", \"bert_model.transformer.layer.4.output_layer_norm.weight\", \"bert_model.transformer.layer.4.output_layer_norm.bias\", \"bert_model.transformer.layer.5.attention.q_lin.weight\", \"bert_model.transformer.layer.5.attention.q_lin.bias\", \"bert_model.transformer.layer.5.attention.k_lin.weight\", \"bert_model.transformer.layer.5.attention.k_lin.bias\", \"bert_model.transformer.layer.5.attention.v_lin.weight\", \"bert_model.transformer.layer.5.attention.v_lin.bias\", \"bert_model.transformer.layer.5.attention.out_lin.weight\", \"bert_model.transformer.layer.5.attention.out_lin.bias\", \"bert_model.transformer.layer.5.sa_layer_norm.weight\", \"bert_model.transformer.layer.5.sa_layer_norm.bias\", \"bert_model.transformer.layer.5.ffn.lin1.weight\", \"bert_model.transformer.layer.5.ffn.lin1.bias\", \"bert_model.transformer.layer.5.ffn.lin2.weight\", \"bert_model.transformer.layer.5.ffn.lin2.bias\", \"bert_model.transformer.layer.5.output_layer_norm.weight\", \"bert_model.transformer.layer.5.output_layer_norm.bias\", \"arc_margin.weight\". ",
     "output_type": "error",
     "traceback": [
      "\u001b[0;31m---------------------------------------------------------------------------\u001b[0m",
      "\u001b[0;31mRuntimeError\u001b[0m                              Traceback (most recent call last)",
      "\u001b[0;32m<ipython-input-16-f35997b8636f>\u001b[0m in \u001b[0;36m<module>\u001b[0;34m\u001b[0m\n\u001b[1;32m      9\u001b[0m \u001b[0;34m\u001b[0m\u001b[0m\n\u001b[1;32m     10\u001b[0m train_eval(CFG.epochs, model, train_loader, valid_loader,\n\u001b[0;32m---> 11\u001b[0;31m            criterion, optimizer, lr_scheduler=lr_scheduler)\n\u001b[0m",
      "\u001b[0;32m<ipython-input-14-4e6087ec2376>\u001b[0m in \u001b[0;36mtrain_eval\u001b[0;34m(epochs, model, train_loader, valid_loader, criterion, optimizer, lr_scheduler)\u001b[0m\n\u001b[1;32m     38\u001b[0m                 \u001b[0mprint\u001b[0m\u001b[0;34m(\u001b[0m\u001b[0;34m\"Loading best model weights!\"\u001b[0m\u001b[0;34m)\u001b[0m\u001b[0;34m\u001b[0m\u001b[0;34m\u001b[0m\u001b[0m\n\u001b[1;32m     39\u001b[0m                 model.load_state_dict(torch.load(f'{CFG.model_path}/{CFG.model_save_name}', \n\u001b[0;32m---> 40\u001b[0;31m                                                  map_location=CFG.device))\n\u001b[0m\u001b[1;32m     41\u001b[0m \u001b[0;34m\u001b[0m\u001b[0m\n\u001b[1;32m     42\u001b[0m         \u001b[0mprint\u001b[0m\u001b[0;34m(\u001b[0m\u001b[0;34m\"*\"\u001b[0m \u001b[0;34m*\u001b[0m \u001b[0;36m30\u001b[0m\u001b[0;34m)\u001b[0m\u001b[0;34m\u001b[0m\u001b[0;34m\u001b[0m\u001b[0m\n",
      "\u001b[0;32m~/anaconda3/lib/python3.7/site-packages/torch/nn/modules/module.py\u001b[0m in \u001b[0;36mload_state_dict\u001b[0;34m(self, state_dict, strict)\u001b[0m\n\u001b[1;32m   1222\u001b[0m         \u001b[0;32mif\u001b[0m \u001b[0mlen\u001b[0m\u001b[0;34m(\u001b[0m\u001b[0merror_msgs\u001b[0m\u001b[0;34m)\u001b[0m \u001b[0;34m>\u001b[0m \u001b[0;36m0\u001b[0m\u001b[0;34m:\u001b[0m\u001b[0;34m\u001b[0m\u001b[0;34m\u001b[0m\u001b[0m\n\u001b[1;32m   1223\u001b[0m             raise RuntimeError('Error(s) in loading state_dict for {}:\\n\\t{}'.format(\n\u001b[0;32m-> 1224\u001b[0;31m                                self.__class__.__name__, \"\\n\\t\".join(error_msgs)))\n\u001b[0m\u001b[1;32m   1225\u001b[0m         \u001b[0;32mreturn\u001b[0m \u001b[0m_IncompatibleKeys\u001b[0m\u001b[0;34m(\u001b[0m\u001b[0mmissing_keys\u001b[0m\u001b[0;34m,\u001b[0m \u001b[0munexpected_keys\u001b[0m\u001b[0;34m)\u001b[0m\u001b[0;34m\u001b[0m\u001b[0;34m\u001b[0m\u001b[0m\n\u001b[1;32m   1226\u001b[0m \u001b[0;34m\u001b[0m\u001b[0m\n",
      "\u001b[0;31mRuntimeError\u001b[0m: Error(s) in loading state_dict for DataParallel:\n\tMissing key(s) in state_dict: \"module.bert_model.embeddings.word_embeddings.weight\", \"module.bert_model.embeddings.position_embeddings.weight\", \"module.bert_model.embeddings.LayerNorm.weight\", \"module.bert_model.embeddings.LayerNorm.bias\", \"module.bert_model.transformer.layer.0.attention.q_lin.weight\", \"module.bert_model.transformer.layer.0.attention.q_lin.bias\", \"module.bert_model.transformer.layer.0.attention.k_lin.weight\", \"module.bert_model.transformer.layer.0.attention.k_lin.bias\", \"module.bert_model.transformer.layer.0.attention.v_lin.weight\", \"module.bert_model.transformer.layer.0.attention.v_lin.bias\", \"module.bert_model.transformer.layer.0.attention.out_lin.weight\", \"module.bert_model.transformer.layer.0.attention.out_lin.bias\", \"module.bert_model.transformer.layer.0.sa_layer_norm.weight\", \"module.bert_model.transformer.layer.0.sa_layer_norm.bias\", \"module.bert_model.transformer.layer.0.ffn.lin1.weight\", \"module.bert_model.transformer.layer.0.ffn.lin1.bias\", \"module.bert_model.transformer.layer.0.ffn.lin2.weight\", \"module.bert_model.transformer.layer.0.ffn.lin2.bias\", \"module.bert_model.transformer.layer.0.output_layer_norm.weight\", \"module.bert_model.transformer.layer.0.output_layer_norm.bias\", \"module.bert_model.transformer.layer.1.attention.q_lin.weight\", \"module.bert_model.transformer.layer.1.attention.q_lin.bias\", \"module.bert_model.transformer.layer.1.attention.k_lin.weight\", \"module.bert_model.transformer.layer.1.attention.k_lin.bias\", \"module.bert_model.transformer.layer.1.attention.v_lin.weight\", \"module.bert_model.transformer.layer.1.attention.v_lin.bias\", \"module.bert_model.transformer.layer.1.attention.out_lin.weight\", \"module.bert_model.transformer.layer.1.attention.out_lin.bias\", \"module.bert_model.transformer.layer.1.sa_layer_norm.weight\", \"module.bert_model.transformer.layer.1.sa_layer_norm.bias\", \"module.bert_model.transformer.layer.1.ffn.lin1.weight\", \"module.bert_model.transformer.layer.1.ffn.lin1.bias\", \"module.bert_model.transformer.layer.1.ffn.lin2.weight\", \"module.bert_model.transformer.layer.1.ffn.lin2.bias\", \"module.bert_model.transformer.layer.1.output_layer_norm.weight\", \"module.bert_model.transformer.layer.1.output_layer_norm.bias\", \"module.bert_model.transformer.layer.2.attention.q_lin.weight\", \"module.bert_model.transformer.layer.2.attention.q_lin.bias\", \"module.bert_model.transformer.layer.2.attention.k_lin.weight\", \"module.bert_model.transformer.layer.2.attention.k_lin.bias\", \"module.bert_model.transformer.layer.2.attention.v_lin.weight\", \"module.bert_model.transformer.layer.2.attention.v_lin.bias\", \"module.bert_model.transformer.layer.2.attention.out_lin.weight\", \"module.bert_model.transformer.layer.2.attention.out_lin.bias\", \"module.bert_model.transformer.layer.2.sa_layer_norm.weight\", \"module.bert_model.transformer.layer.2.sa_layer_norm.bias\", \"module.bert_model.transformer.layer.2.ffn.lin1.weight\", \"module.bert_model.transformer.layer.2.ffn.lin1.bias\", \"module.bert_model.transformer.layer.2.ffn.lin2.weight\", \"module.bert_model.transformer.layer.2.ffn.lin2.bias\", \"module.bert_model.transformer.layer.2.output_layer_norm.weight\", \"module.bert_model.transformer.layer.2.output_layer_norm.bias\", \"module.bert_model.transformer.layer.3.attention.q_lin.weight\", \"module.bert_model.transformer.layer.3.attention.q_lin.bias\", \"module.bert_model.transformer.layer.3.attention.k_lin.weight\", \"module.bert_model.transformer.layer.3.attention.k_lin.bias\", \"module.bert_model.transformer.layer.3.attention.v_lin.weight\", \"module.bert_model.transformer.layer.3.attention.v_lin.bias\", \"module.bert_model.transformer.layer.3.attention.out_lin.weight\", \"module.bert_model.transformer.layer.3.attention.out_lin.bias\", \"module.bert_model.transformer.layer.3.sa_layer_norm.weight\", \"module.bert_model.transformer.layer.3.sa_layer_norm.bias\", \"module.bert_model.transformer.layer.3.ffn.lin1.weight\", \"module.bert_model.transformer.layer.3.ffn.lin1.bias\", \"module.bert_model.transformer.layer.3.ffn.lin2.weight\", \"module.bert_model.transformer.layer.3.ffn.lin2.bias\", \"module.bert_model.transformer.layer.3.output_layer_norm.weight\", \"module.bert_model.transformer.layer.3.output_layer_norm.bias\", \"module.bert_model.transformer.layer.4.attention.q_lin.weight\", \"module.bert_model.transformer.layer.4.attention.q_lin.bias\", \"module.bert_model.transformer.layer.4.attention.k_lin.weight\", \"module.bert_model.transformer.layer.4.attention.k_lin.bias\", \"module.bert_model.transformer.layer.4.attention.v_lin.weight\", \"module.bert_model.transformer.layer.4.attention.v_lin.bias\", \"module.bert_model.transformer.layer.4.attention.out_lin.weight\", \"module.bert_model.transformer.layer.4.attention.out_lin.bias\", \"module.bert_model.transformer.layer.4.sa_layer_norm.weight\", \"module.bert_model.transformer.layer.4.sa_layer_norm.bias\", \"module.bert_model.transformer.layer.4.ffn.lin1.weight\", \"module.bert_model.transformer.layer.4.ffn.lin1.bias\", \"module.bert_model.transformer.layer.4.ffn.lin2.weight\", \"module.bert_model.transformer.layer.4.ffn.lin2.bias\", \"module.bert_model.transformer.layer.4.output_layer_norm.weight\", \"module.bert_model.transformer.layer.4.output_layer_norm.bias\", \"module.bert_model.transformer.layer.5.attention.q_lin.weight\", \"module.bert_model.transformer.layer.5.attention.q_lin.bias\", \"module.bert_model.transformer.layer.5.attention.k_lin.weight\", \"module.bert_model.transformer.layer.5.attention.k_lin.bias\", \"module.bert_model.transformer.layer.5.attention.v_lin.weight\", \"module.bert_model.transformer.layer.5.attention.v_lin.bias\", \"module.bert_model.transformer.layer.5.attention.out_lin.weight\", \"module.bert_model.transformer.layer.5.attention.out_lin.bias\", \"module.bert_model.transformer.layer.5.sa_layer_norm.weight\", \"module.bert_model.transformer.layer.5.sa_layer_norm.bias\", \"module.bert_model.transformer.layer.5.ffn.lin1.weight\", \"module.bert_model.transformer.layer.5.ffn.lin1.bias\", \"module.bert_model.transformer.layer.5.ffn.lin2.weight\", \"module.bert_model.transformer.layer.5.ffn.lin2.bias\", \"module.bert_model.transformer.layer.5.output_layer_norm.weight\", \"module.bert_model.transformer.layer.5.output_layer_norm.bias\", \"module.arc_margin.weight\". \n\tUnexpected key(s) in state_dict: \"bert_model.embeddings.word_embeddings.weight\", \"bert_model.embeddings.position_embeddings.weight\", \"bert_model.embeddings.LayerNorm.weight\", \"bert_model.embeddings.LayerNorm.bias\", \"bert_model.transformer.layer.0.attention.q_lin.weight\", \"bert_model.transformer.layer.0.attention.q_lin.bias\", \"bert_model.transformer.layer.0.attention.k_lin.weight\", \"bert_model.transformer.layer.0.attention.k_lin.bias\", \"bert_model.transformer.layer.0.attention.v_lin.weight\", \"bert_model.transformer.layer.0.attention.v_lin.bias\", \"bert_model.transformer.layer.0.attention.out_lin.weight\", \"bert_model.transformer.layer.0.attention.out_lin.bias\", \"bert_model.transformer.layer.0.sa_layer_norm.weight\", \"bert_model.transformer.layer.0.sa_layer_norm.bias\", \"bert_model.transformer.layer.0.ffn.lin1.weight\", \"bert_model.transformer.layer.0.ffn.lin1.bias\", \"bert_model.transformer.layer.0.ffn.lin2.weight\", \"bert_model.transformer.layer.0.ffn.lin2.bias\", \"bert_model.transformer.layer.0.output_layer_norm.weight\", \"bert_model.transformer.layer.0.output_layer_norm.bias\", \"bert_model.transformer.layer.1.attention.q_lin.weight\", \"bert_model.transformer.layer.1.attention.q_lin.bias\", \"bert_model.transformer.layer.1.attention.k_lin.weight\", \"bert_model.transformer.layer.1.attention.k_lin.bias\", \"bert_model.transformer.layer.1.attention.v_lin.weight\", \"bert_model.transformer.layer.1.attention.v_lin.bias\", \"bert_model.transformer.layer.1.attention.out_lin.weight\", \"bert_model.transformer.layer.1.attention.out_lin.bias\", \"bert_model.transformer.layer.1.sa_layer_norm.weight\", \"bert_model.transformer.layer.1.sa_layer_norm.bias\", \"bert_model.transformer.layer.1.ffn.lin1.weight\", \"bert_model.transformer.layer.1.ffn.lin1.bias\", \"bert_model.transformer.layer.1.ffn.lin2.weight\", \"bert_model.transformer.layer.1.ffn.lin2.bias\", \"bert_model.transformer.layer.1.output_layer_norm.weight\", \"bert_model.transformer.layer.1.output_layer_norm.bias\", \"bert_model.transformer.layer.2.attention.q_lin.weight\", \"bert_model.transformer.layer.2.attention.q_lin.bias\", \"bert_model.transformer.layer.2.attention.k_lin.weight\", \"bert_model.transformer.layer.2.attention.k_lin.bias\", \"bert_model.transformer.layer.2.attention.v_lin.weight\", \"bert_model.transformer.layer.2.attention.v_lin.bias\", \"bert_model.transformer.layer.2.attention.out_lin.weight\", \"bert_model.transformer.layer.2.attention.out_lin.bias\", \"bert_model.transformer.layer.2.sa_layer_norm.weight\", \"bert_model.transformer.layer.2.sa_layer_norm.bias\", \"bert_model.transformer.layer.2.ffn.lin1.weight\", \"bert_model.transformer.layer.2.ffn.lin1.bias\", \"bert_model.transformer.layer.2.ffn.lin2.weight\", \"bert_model.transformer.layer.2.ffn.lin2.bias\", \"bert_model.transformer.layer.2.output_layer_norm.weight\", \"bert_model.transformer.layer.2.output_layer_norm.bias\", \"bert_model.transformer.layer.3.attention.q_lin.weight\", \"bert_model.transformer.layer.3.attention.q_lin.bias\", \"bert_model.transformer.layer.3.attention.k_lin.weight\", \"bert_model.transformer.layer.3.attention.k_lin.bias\", \"bert_model.transformer.layer.3.attention.v_lin.weight\", \"bert_model.transformer.layer.3.attention.v_lin.bias\", \"bert_model.transformer.layer.3.attention.out_lin.weight\", \"bert_model.transformer.layer.3.attention.out_lin.bias\", \"bert_model.transformer.layer.3.sa_layer_norm.weight\", \"bert_model.transformer.layer.3.sa_layer_norm.bias\", \"bert_model.transformer.layer.3.ffn.lin1.weight\", \"bert_model.transformer.layer.3.ffn.lin1.bias\", \"bert_model.transformer.layer.3.ffn.lin2.weight\", \"bert_model.transformer.layer.3.ffn.lin2.bias\", \"bert_model.transformer.layer.3.output_layer_norm.weight\", \"bert_model.transformer.layer.3.output_layer_norm.bias\", \"bert_model.transformer.layer.4.attention.q_lin.weight\", \"bert_model.transformer.layer.4.attention.q_lin.bias\", \"bert_model.transformer.layer.4.attention.k_lin.weight\", \"bert_model.transformer.layer.4.attention.k_lin.bias\", \"bert_model.transformer.layer.4.attention.v_lin.weight\", \"bert_model.transformer.layer.4.attention.v_lin.bias\", \"bert_model.transformer.layer.4.attention.out_lin.weight\", \"bert_model.transformer.layer.4.attention.out_lin.bias\", \"bert_model.transformer.layer.4.sa_layer_norm.weight\", \"bert_model.transformer.layer.4.sa_layer_norm.bias\", \"bert_model.transformer.layer.4.ffn.lin1.weight\", \"bert_model.transformer.layer.4.ffn.lin1.bias\", \"bert_model.transformer.layer.4.ffn.lin2.weight\", \"bert_model.transformer.layer.4.ffn.lin2.bias\", \"bert_model.transformer.layer.4.output_layer_norm.weight\", \"bert_model.transformer.layer.4.output_layer_norm.bias\", \"bert_model.transformer.layer.5.attention.q_lin.weight\", \"bert_model.transformer.layer.5.attention.q_lin.bias\", \"bert_model.transformer.layer.5.attention.k_lin.weight\", \"bert_model.transformer.layer.5.attention.k_lin.bias\", \"bert_model.transformer.layer.5.attention.v_lin.weight\", \"bert_model.transformer.layer.5.attention.v_lin.bias\", \"bert_model.transformer.layer.5.attention.out_lin.weight\", \"bert_model.transformer.layer.5.attention.out_lin.bias\", \"bert_model.transformer.layer.5.sa_layer_norm.weight\", \"bert_model.transformer.layer.5.sa_layer_norm.bias\", \"bert_model.transformer.layer.5.ffn.lin1.weight\", \"bert_model.transformer.layer.5.ffn.lin1.bias\", \"bert_model.transformer.layer.5.ffn.lin2.weight\", \"bert_model.transformer.layer.5.ffn.lin2.bias\", \"bert_model.transformer.layer.5.output_layer_norm.weight\", \"bert_model.transformer.layer.5.output_layer_norm.bias\", \"arc_margin.weight\". "
     ]
    }
   ],
   "source": [
    "model = torch.nn.DataParallel(BertModel(bert_model).to(CFG.device))\n",
    "criterion = nn.CrossEntropyLoss()\n",
    "optimizer = torch.optim.Adam(model.parameters(), lr=CFG.learning_rate)\n",
    "if CFG.scheduler == \"ReduceLROnPlateau\":\n",
    "    lr_scheduler = torch.optim.lr_scheduler.ReduceLROnPlateau(optimizer, \n",
    "                                                              mode=\"min\", \n",
    "                                                              factor=CFG.factor, \n",
    "                                                              patience=CFG.patience)\n",
    "\n",
    "train_eval(CFG.epochs, model, train_loader, valid_loader,\n",
    "           criterion, optimizer, lr_scheduler=lr_scheduler)"
   ]
  },
  {
   "cell_type": "code",
   "execution_count": null,
   "metadata": {},
   "outputs": [],
   "source": []
  }
 ],
 "metadata": {
  "kernelspec": {
   "display_name": "Python 3",
   "language": "python",
   "name": "python3"
  },
  "language_info": {
   "codemirror_mode": {
    "name": "ipython",
    "version": 3
   },
   "file_extension": ".py",
   "mimetype": "text/x-python",
   "name": "python",
   "nbconvert_exporter": "python",
   "pygments_lexer": "ipython3",
   "version": "3.7.6"
  }
 },
 "nbformat": 4,
 "nbformat_minor": 4
}
